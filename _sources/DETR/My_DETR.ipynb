{
  "nbformat": 4,
  "nbformat_minor": 2,
  "metadata": {
    "colab": {
      "name": "My-DETR.ipynb",
      "provenance": [],
      "collapsed_sections": [],
      "authorship_tag": "ABX9TyMw2mZUGiKgd3jBZ56Ir0hi",
      "include_colab_link": true
    },
    "kernelspec": {
      "name": "python3",
      "display_name": "Python 3"
    },
    "language_info": {
      "name": "python"
    }
  },
  "cells": [
    {
      "cell_type": "markdown",
      "source": [
        "<a href=\"https://colab.research.google.com/github/LinkHS/Colab/blob/main/DETR/My_DETR.ipynb\" target=\"_parent\"><img src=\"https://colab.research.google.com/assets/colab-badge.svg\" alt=\"Open In Colab\"/></a>"
      ],
      "metadata": {
        "id": "view-in-github",
        "colab_type": "text"
      }
    },
    {
      "cell_type": "markdown",
      "source": [
        "# My_DETR\n",
        "\n",
        "- [Transformer 中的 Positional Encoding](https://wmathor.com/index.php/archives/1453/)\n",
        "- [Transformer 详解](https://wmathor.com/index.php/archives/1438/)\n",
        "- [源码解析目标检测的跨界之星DETR（一）、概述与模型推断](https://www.jianshu.com/p/85e75a03da65)\n",
        "- Harvard: [The Annotated Transformer](http://nlp.seas.harvard.edu/2018/04/03/attention.html)"
      ],
      "metadata": {
        "id": "wfAiCkiCBEaq"
      }
    },
    {
      "cell_type": "code",
      "execution_count": null,
      "source": [
        "from PIL import Image\n",
        "import requests\n",
        "import matplotlib.pyplot as plt\n",
        "%config InlineBackend.figure_format = 'retina'\n",
        "\n",
        "import torch\n",
        "from torch import nn\n",
        "from torchvision.models import resnet50\n",
        "import torchvision.transforms as T\n",
        "torch.set_grad_enabled(False)"
      ],
      "outputs": [],
      "metadata": {
        "id": "B4mo4Cvf3tPF"
      }
    },
    {
      "cell_type": "code",
      "execution_count": null,
      "source": [
        "hidden_dim = 256\n",
        "\n",
        "query_pos = nn.Parameter(torch.rand(100, hidden_dim))\n",
        "row_embed = nn.Parameter(torch.rand(50, hidden_dim // 2))\n",
        "col_embed = nn.Parameter(torch.rand(50, hidden_dim // 2))\n",
        "\n",
        "print(col_embed.shape)\n",
        "print(query_pos.shape)\n"
      ],
      "outputs": [
        {
          "output_type": "stream",
          "name": "stdout",
          "text": [
            "torch.Size([50, 128])\n",
            "torch.Size([100, 256])\n"
          ]
        }
      ],
      "metadata": {
        "colab": {
          "base_uri": "https://localhost:8080/"
        },
        "id": "POgrdCEt3wMr",
        "outputId": "d157a51f-b7ae-47a1-e3fd-9febf01dff33"
      }
    },
    {
      "cell_type": "code",
      "execution_count": null,
      "source": [
        "H, W = 20, 20\n",
        "pos = torch.cat([\n",
        " col_embed[:W].unsqueeze(0).repeat(H, 1, 1),\n",
        " row_embed[:H].unsqueeze(1).repeat(1, W, 1),], dim=-1).flatten(0, 1).unsqueeze(1)\n",
        "\n",
        "print(pos.shape)"
      ],
      "outputs": [
        {
          "output_type": "stream",
          "name": "stdout",
          "text": [
            "torch.Size([400, 1, 256])\n"
          ]
        }
      ],
      "metadata": {
        "colab": {
          "base_uri": "https://localhost:8080/"
        },
        "id": "Z4SEjIXh4LwB",
        "outputId": "2f095db0-6b63-46dc-ee23-c8df363afbe7"
      }
    },
    {
      "cell_type": "code",
      "execution_count": null,
      "source": [
        "print(col_embed.shape)\n",
        "print(col_embed[:W].shape)\n",
        "print(col_embed[:W].unsqueeze(0).shape)\n",
        "print(col_embed[:W].unsqueeze(0).repeat(H, 1, 1).shape)\n",
        "print(row_embed[:H].unsqueeze(1).repeat(1, W, 1).shape)\n"
      ],
      "outputs": [
        {
          "output_type": "stream",
          "name": "stdout",
          "text": [
            "torch.Size([50, 128])\n",
            "torch.Size([20, 128])\n",
            "torch.Size([1, 20, 128])\n",
            "torch.Size([20, 20, 128])\n",
            "torch.Size([20, 20, 128])\n"
          ]
        }
      ],
      "metadata": {
        "colab": {
          "base_uri": "https://localhost:8080/"
        },
        "id": "8uor3QTq4pAf",
        "outputId": "30d0e8a3-dd68-41d9-dc82-6e3dbcd4fa69"
      }
    },
    {
      "cell_type": "code",
      "execution_count": null,
      "source": [
        "print(torch.cat([\n",
        " col_embed[:W].unsqueeze(0).repeat(H, 1, 1),\n",
        " row_embed[:H].unsqueeze(1).repeat(1, W, 1),], dim=-1).shape)\n",
        "\n",
        "print(torch.cat([\n",
        " col_embed[:W].unsqueeze(0).repeat(H, 1, 1),\n",
        " row_embed[:H].unsqueeze(1).repeat(1, W, 1),], dim=-1).flatten(0, 1).shape)\n",
        "\n",
        "print(torch.cat([\n",
        " col_embed[:W].unsqueeze(0).repeat(H, 1, 1),\n",
        " row_embed[:H].unsqueeze(1).repeat(1, W, 1),], dim=-1).flatten(0, 1).unsqueeze(1).shape)"
      ],
      "outputs": [
        {
          "output_type": "stream",
          "name": "stdout",
          "text": [
            "torch.Size([20, 20, 256])\n",
            "torch.Size([400, 256])\n",
            "torch.Size([400, 1, 256])\n"
          ]
        }
      ],
      "metadata": {
        "colab": {
          "base_uri": "https://localhost:8080/"
        },
        "id": "gcE3ITEg8J2n",
        "outputId": "fa009b99-d3c2-4c2c-f64d-a3aee7c24634"
      }
    },
    {
      "cell_type": "code",
      "execution_count": null,
      "source": [
        "# propagate through the transformer\n",
        "h = torch.rand(1, 256, 20, 20)\n",
        "print(h.flatten(2).shape)\n",
        "print(h.flatten(2).permute(2, 0, 1).shape)\n",
        "print(query_pos.unsqueeze(1).shape)\n",
        "# h = transformer(pos + 0.1 * h.flatten(2).permute(2, 0, 1),\n",
        "#             query_pos.unsqueeze(1)).transpose(0, 1)"
      ],
      "outputs": [
        {
          "output_type": "stream",
          "name": "stdout",
          "text": [
            "torch.Size([1, 256, 400])\n",
            "torch.Size([400, 1, 256])\n",
            "torch.Size([100, 1, 256])\n"
          ]
        }
      ],
      "metadata": {
        "colab": {
          "base_uri": "https://localhost:8080/"
        },
        "id": "qd8TMkE4_Pjd",
        "outputId": "58064af6-da4b-42ff-c68f-8f5ecc55d852"
      }
    },
    {
      "cell_type": "code",
      "execution_count": null,
      "source": [
        "hidden_dim = 256\n",
        "nheads = 8\n",
        "num_encoder_layers = 6\n",
        "num_decoder_layers = 6\n",
        "transformer = nn.Transformer(hidden_dim, nheads, num_encoder_layers, num_decoder_layers)"
      ],
      "outputs": [],
      "metadata": {
        "id": "6SI8SLekC2W-"
      }
    },
    {
      "cell_type": "code",
      "execution_count": null,
      "source": [
        "print(transformer(pos + 0.1*h.flatten(2).permute(2, 0, 1),\n",
        "         query_pos.unsqueeze(1)).transpose(0, 1).shape)"
      ],
      "outputs": [
        {
          "output_type": "stream",
          "name": "stdout",
          "text": [
            "torch.Size([1, 100, 256])\n"
          ]
        }
      ],
      "metadata": {
        "colab": {
          "base_uri": "https://localhost:8080/"
        },
        "id": "DLmcW1KzDKjH",
        "outputId": "55e6f0e4-14ff-48a4-9ec9-6efcd1e47c1d"
      }
    }
  ]
}
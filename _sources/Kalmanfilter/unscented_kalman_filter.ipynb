{
  "nbformat": 4,
  "nbformat_minor": 2,
  "metadata": {
    "colab": {
      "name": "unscented_kalman_filter.ipynb",
      "provenance": [],
      "collapsed_sections": [],
      "toc_visible": true,
      "authorship_tag": "ABX9TyNOTGT/taLUTiLelilODZx6",
      "include_colab_link": true
    },
    "kernelspec": {
      "name": "python3",
      "display_name": "Python 3"
    },
    "language_info": {
      "name": "python"
    }
  },
  "cells": [
    {
      "cell_type": "markdown",
      "source": [
        "# Unscented Kalman Filter\n",
        "<a href=\"https://colab.research.google.com/github/LinkHS/Colab/blob/main/Kalmanfilter/unscented_kalman_filter.ipynb\" target=\"_parent\"><img src=\"https://colab.research.google.com/assets/colab-badge.svg\" alt=\"Open In Colab\"/></a>"
      ],
      "metadata": {
        "id": "view-in-github",
        "colab_type": "text"
      }
    },
    {
      "cell_type": "code",
      "execution_count": 1,
      "source": [
        "import math\n",
        "import matplotlib.pyplot as plt\n",
        "import numpy as np\n",
        "from scipy.spatial.transform import Rotation as Rot\n",
        "import scipy.linalg"
      ],
      "outputs": [],
      "metadata": {
        "id": "4RB4SSKW3Q4h"
      }
    },
    {
      "cell_type": "markdown",
      "source": [
        "# Python Robotics\n",
        "## States and Control inputs"
      ],
      "metadata": {
        "id": "QDt-4Y4q_FhK"
      }
    },
    {
      "cell_type": "markdown",
      "source": [
        "状态量：x坐标、y坐标、偏航角、速度\n",
        "> $x$, $y$ are a 2D x-y position, $\\phi$ is orientation, and $v$ is velocity.\n",
        "\n",
        "$\\textbf{x}_t=[x_t, y_t, \\phi_t, v_t]$\n"
      ],
      "metadata": {
        "id": "J0_Gd8Ra4bn9"
      }
    },
    {
      "cell_type": "markdown",
      "source": [
        "控制量：速度、角速度\n",
        "> The robot has a speed sensor and a gyro sensor.\n",
        "\n",
        "$\\textbf{u}_t=[v_t, \\omega_t]$\n"
      ],
      "metadata": {
        "id": "Y2qMbqQk4DIn"
      }
    },
    {
      "cell_type": "code",
      "execution_count": 2,
      "source": [
        "def calc_input():\n",
        "  v = 1.0  # [m/s]\n",
        "  yawRate = 0.1  # [rad/s]\n",
        "  u = np.array([[v, yawRate]]).T\n",
        "  return u\n",
        "\n",
        "u = calc_input()\n",
        "u"
      ],
      "outputs": [
        {
          "output_type": "execute_result",
          "data": {
            "text/plain": [
              "array([[1. ],\n",
              "       [0.1]])"
            ]
          },
          "metadata": {
            "tags": []
          },
          "execution_count": 2
        }
      ],
      "metadata": {
        "colab": {
          "base_uri": "https://localhost:8080/"
        },
        "id": "H8WMFBq63YQu",
        "outputId": "be801821-e26b-4f44-c4c8-355a2326515f"
      }
    },
    {
      "cell_type": "markdown",
      "source": [
        "## Motion Model\n",
        "The robot model is \n",
        "\n",
        "$ \\dot{x} = vcos(\\phi)$  \n",
        "$ \\dot{y} = vsin((\\phi)$  \n",
        "$ \\dot{\\phi} = \\omega$\n",
        "\n",
        "Given that $\\textbf{x}_t = [x_t, y_t, \\phi_t, v_t]$，$\\textbf{u}_t = [v_t, \\dot{\\phi}]$\n",
        "\n",
        "the motion model is\n",
        "\n",
        "$\\textbf{x}_{t+1} = f(x_t, u_t)$  \n",
        "$\\qquad = F\\textbf{x}_t+B\\textbf{u}_t$\n",
        "\n",
        " \n",
        "$x_{t+1} = x_t + \\dot{x}\\Delta t$  \n",
        "$y_{t+1} = y_t + \\dot{y}\\Delta t$  \n",
        "$\\phi_{t+1} = \\phi_t + \\dot{\\phi}\\Delta t$  \n",
        "$v_{t+1} = 0 + v_{t+1}$\n",
        "\n",
        "where\n",
        "\n",
        "$\\begin{equation*}\n",
        "F=\n",
        "\\begin{bmatrix}\n",
        "1 & 0 & 0 & 0\\\\\n",
        "0 & 1 & 0 & 0\\\\\n",
        "0 & 0 & 1 & 0 \\\\\n",
        "0 & 0 & 0 & 0 \\\\\n",
        "\\end{bmatrix}\n",
        "\\end{equation*}$\n",
        "\n",
        "$\\begin{equation*}\n",
        "B=\n",
        "\\begin{bmatrix}\n",
        "cos(\\phi)\\Delta t & 0\\\\\n",
        "sin(\\phi)\\Delta t & 0\\\\\n",
        "0 & \\Delta t\\\\\n",
        "1 & 0\\\\\n",
        "\\end{bmatrix}\n",
        "\\end{equation*}$\n"
      ],
      "metadata": {
        "id": "aJfZydyk-4v9"
      }
    },
    {
      "cell_type": "code",
      "execution_count": 3,
      "source": [
        "def motion_model(x, u, dt):\n",
        "  F = np.array([[1.0, 0, 0, 0],\n",
        "          [0, 1.0, 0, 0],\n",
        "          [0, 0, 1.0, 0],\n",
        "          [0, 0, 0, 0]])\n",
        "\n",
        "  B = np.array([[dt * math.cos(x[2]), 0],\n",
        "          [dt * math.sin(x[2]), 0],\n",
        "          [0.0, dt],\n",
        "          [1.0, 0.0]])\n",
        "  x = F@x + B@u\n",
        "  return x"
      ],
      "outputs": [],
      "metadata": {
        "id": "vzHV_JDtAeAH"
      }
    },
    {
      "cell_type": "markdown",
      "source": [
        "## Observation Model\n",
        "观测量：x坐标、y坐标\n",
        "> The robot has a GNSS sensor.\n",
        "\n",
        "$\\textbf{z}_t = [x_t, y_t]$\n",
        "\n",
        "Given that $\\textbf{x}_t = [x_t, y_t, \\phi_t, v_t]$, so the observation model is\n",
        "\n",
        "$\\textbf{z}_{t} = H\\textbf{x}_t$\n",
        "\n",
        "where\n",
        "\n",
        "$\\begin{equation*}\n",
        "H=\n",
        "\\begin{bmatrix}\n",
        "1 & 0 & 0& 0\\\\\n",
        "0 & 1 & 0& 0\\\\\n",
        "\\end{bmatrix}\n",
        "\\end{equation*}$\n"
      ],
      "metadata": {
        "id": "v-5e9mAL50Z3"
      }
    },
    {
      "cell_type": "code",
      "execution_count": 4,
      "source": [
        "def observation_model(x):\n",
        "  H = np.array([[1, 0, 0, 0],\n",
        "          [0, 1, 0, 0]])\n",
        "  z = H @ x\n",
        "  return z\n",
        "\n",
        "x = np.ones((4, 1))\n",
        "observation_model(x)"
      ],
      "outputs": [
        {
          "output_type": "execute_result",
          "data": {
            "text/plain": [
              "array([[1.],\n",
              "       [1.]])"
            ]
          },
          "metadata": {
            "tags": []
          },
          "execution_count": 4
        }
      ],
      "metadata": {
        "colab": {
          "base_uri": "https://localhost:8080/"
        },
        "id": "H0yKhtrz8ksD",
        "outputId": "64b15681-eaf3-47e0-eced-14724792bc4a"
      }
    },
    {
      "cell_type": "markdown",
      "source": [
        "给观测量和控制量加上噪音：\n",
        "\n",
        "$\\textbf{u}_d = \\textbf{u} + \\epsilon$\n",
        "\n",
        "$\\textbf{z} = H\\textbf{x} + \\delta$"
      ],
      "metadata": {
        "id": "gCRc-dLw7wXc"
      }
    },
    {
      "cell_type": "code",
      "execution_count": 5,
      "source": [
        "# Simulation parameter\n",
        "INPUT_NOISE = np.diag([1.0, np.deg2rad(30.0)]) ** 2\n",
        "GPS_NOISE = np.diag([0.5, 0.5]) ** 2\n",
        "\n",
        "def observation(xTrue, u, dt):\n",
        "  xTrue = motion_model(xTrue, u, dt)\n",
        "  # add noise to gps x-y\n",
        "  z = observation_model(xTrue) + GPS_NOISE @ np.random.randn(2, 1)\n",
        "  # add noise to input\n",
        "  ud = u + INPUT_NOISE @ np.random.randn(2, 1)\n",
        "  return xTrue, z, ud\n",
        "\n",
        "xTrue = np.zeros((4, 1))\n",
        "u = calc_input()\n",
        "xTrue, z, ud = observation(xTrue, u, dt=1)\n",
        "print('xTrue:\\n', xTrue)\n",
        "print('\\nz:\\n', z)\n",
        "print('\\nu:\\n', u)\n",
        "print('\\nu with noise:\\n', ud)"
      ],
      "outputs": [
        {
          "output_type": "stream",
          "name": "stdout",
          "text": [
            "xTrue:\n",
            " [[1. ]\n",
            " [0. ]\n",
            " [0.1]\n",
            " [1. ]]\n",
            "\n",
            "z:\n",
            " [[ 1.22539845]\n",
            " [-0.11166166]]\n",
            "\n",
            "u:\n",
            " [[1. ]\n",
            " [0.1]]\n",
            "\n",
            "u with noise:\n",
            " [[0.3668484 ]\n",
            " [0.23745866]]\n"
          ]
        }
      ],
      "metadata": {
        "colab": {
          "base_uri": "https://localhost:8080/"
        },
        "id": "sKFRBwjN4CO1",
        "outputId": "2b803d58-b51e-4bca-f532-1263cf7833dd"
      }
    },
    {
      "cell_type": "markdown",
      "source": [
        "## Sigma points\n",
        "In this case, the functions $f$ and $h$ are not linear. UKF applies UT to performs the approximation with extracted points called ”Sigma points. Sigma points are computed using the matrix $S$ which is defined from the covariance matrix, $\\Sigma_t$. $S_i$ denotes the i-th colum of the matrix $S$\n",
        "\n",
        "$$S = \\sqrt{\\Sigma_t}$$\n",
        "\n",
        "We define the sigma points $X_{i,t} \\in X_t$ as follows:\n",
        "\n",
        "$$\n",
        "X_{i, t}=\\left\\{\\begin{array}{ll}\n",
        "=\\mu_{t}, & i=0 \\\\\n",
        "=\\mu_{t}+\\gamma S_{i}, & i=1, \\ldots, N \\\\\n",
        "=\\mu_{t}-\\gamma S_{i-N}, & i=N+1, \\ldots, 2 N\n",
        "\\end{array}\\right.\n",
        "$$\n",
        "\n",
        "where $N$ is the dimension of the state, and $\\gamma$ is computed by:\n",
        "\n",
        "$$\\gamma = \\sqrt{N+\\lambda}$$\n",
        "\n",
        "$$\\lambda = \\alpha^{2}(N+\\kappa) - N$$\n",
        "\n",
        "$\\alpha, \\kappa$ are two hyper-parameters (scaling parameters) of UKF.\n"
      ],
      "metadata": {
        "id": "kOS42u906buc"
      }
    },
    {
      "cell_type": "code",
      "execution_count": 6,
      "source": [
        "def generate_sigma_points(xEst, PEst, gamma):\n",
        "  sigma = xEst\n",
        "  Psqrt = scipy.linalg.sqrtm(PEst) # PEst = Psqrt @ Psqrt\n",
        "  n = len(xEst[:, 0])\n",
        "  # Positive direction\n",
        "  for i in range(n):\n",
        "    sigma = np.hstack((sigma, xEst + gamma*Psqrt[:, i:i+1]))\n",
        "\n",
        "  # Negative direction\n",
        "  for i in range(n):\n",
        "    sigma = np.hstack((sigma, xEst - gamma*Psqrt[:, i:i+1]))\n",
        "  return sigma\n",
        "\n",
        "N = 4\n",
        "ALPHA = 0.001\n",
        "KAPPA = 0\n",
        "\n",
        "lambda_ = ALPHA ** 2 * (N + KAPPA) - N\n",
        "gamma = math.sqrt(N + lambda_)\n",
        "\n",
        "xEst = np.zeros((N, 1))\n",
        "xTrue = np.zeros((N, 1))\n",
        "PEst = np.eye(N)\n",
        "sigma_points = generate_sigma_points(xEst, PEst, gamma)\n",
        "sigma_points.shape # (N, 2N+1)"
      ],
      "outputs": [
        {
          "output_type": "execute_result",
          "data": {
            "text/plain": [
              "(4, 9)"
            ]
          },
          "metadata": {
            "tags": []
          },
          "execution_count": 6
        }
      ],
      "metadata": {
        "colab": {
          "base_uri": "https://localhost:8080/"
        },
        "id": "wCr__qnPOS2v",
        "outputId": "ff6a1514-cdde-46cd-a616-13c589ae2e3e"
      }
    },
    {
      "cell_type": "markdown",
      "source": [
        "## Predication\n",
        "And then, the sigma points are passed through the nonlinear function $f$:\n",
        "\n",
        "$$\\bar{X} = f(X)$$"
      ],
      "metadata": {
        "id": "hgO7MKpjamf-"
      }
    },
    {
      "cell_type": "code",
      "execution_count": 7,
      "source": [
        "def predict_sigma_motion(sigma, u, dt):\n",
        "  \"\"\"\n",
        "    Sigma Points prediction with motion model\n",
        "  \"\"\"\n",
        "  for i in range(sigma.shape[1]):\n",
        "    sigma[:, i:i+1] = motion_model(sigma[:, i:i+1], u, dt)\n",
        "  return sigma\n",
        "\n",
        "u = calc_input()\n",
        "perdicted_points = predict_sigma_motion(sigma_points, u, 1)\n",
        "perdicted_points.shape"
      ],
      "outputs": [
        {
          "output_type": "execute_result",
          "data": {
            "text/plain": [
              "(4, 9)"
            ]
          },
          "metadata": {
            "tags": []
          },
          "execution_count": 7
        }
      ],
      "metadata": {
        "colab": {
          "base_uri": "https://localhost:8080/"
        },
        "id": "1XZ3hW4KO0gn",
        "outputId": "ac92423d-baeb-4f25-a0f0-9b64a9d6fe75"
      }
    },
    {
      "cell_type": "markdown",
      "source": [
        "Here $\\bar{X}$ are transformed sigma points. Finally, the objective parameters $\\mu'$ and $\\Sigma'$ of resultant Gaussian are calculated using the unscented transform on the tranformed sigma points, $\\mu', \\Sigma^\\ =\\ UT(\\bar{X}, \\omega_m, \\omega_c, Q)$:\n",
        "\n",
        "$$\\mu^{\\prime} = \\sum_{i=0}^{2n} \\omega_i^m \\bar{X}_i$$\n",
        "\n",
        "$$\\Sigma^{\\prime} = \\sum_{i=0}^{2n} \\omega_i^c \\left(\\bar{X}_i-\\mu^{\\prime}\\right)\\left(\\bar{X}_i-\\mu^{\\prime}\\right)^{T} + Q$$\n",
        "\n",
        "where $Q$ is Transition model convariance;\n",
        "\n",
        "and $\\omega^m$ are weights used when the mean is computed:\n",
        "\n",
        "$$\n",
        "w_i^m=\\left\\{\\begin{array}{ll} \n",
        "& =\\frac{\\lambda}{N+\\lambda} & i=0 \\\\\n",
        "& =\\frac{1}{2(N+\\lambda)}, & i=1, \\ldots, 2 N \\end{array}\\right.\n",
        "$$\n",
        "\n",
        "and $\\omega^c$ are weights used when the covariance of Gaussian is recovered:\n",
        "\n",
        "$$\n",
        "w^c_i=\\left\\{\\begin{aligned}\n",
        "&=\\frac{\\lambda}{N+\\lambda}+\\left(1-\\alpha^{2}+\\beta\\right) & i=0 \\\\\n",
        "&=\\frac{1}{2(N+\\lambda)}, & i=1, \\ldots, 2 N\n",
        "\\end{aligned}\\right.\n",
        "$$"
      ],
      "metadata": {
        "id": "ipv0ons12ZQI"
      }
    },
    {
      "cell_type": "code",
      "execution_count": 8,
      "source": [
        "# UKF Parameter\n",
        "ALPHA = 0.001\n",
        "BETA = 2\n",
        "KAPPA = 0\n",
        "\n",
        "# calculate weights\n",
        "wm = [lambda_ / (lambda_ + N)]\n",
        "wc = [(lambda_ / (lambda_ + N)) + (1 - ALPHA**2 + BETA)]\n",
        "for i in range(2*N):\n",
        "  wm.append(1.0 / (2*(N + lambda_)))\n",
        "  wc.append(1.0 / (2*(N + lambda_)))\n",
        "\n",
        "wm = np.array([wm])\n",
        "wc = np.array([wc])\n",
        "wm.shape, wc.shape"
      ],
      "outputs": [
        {
          "output_type": "execute_result",
          "data": {
            "text/plain": [
              "((1, 9), (1, 9))"
            ]
          },
          "metadata": {
            "tags": []
          },
          "execution_count": 8
        }
      ],
      "metadata": {
        "colab": {
          "base_uri": "https://localhost:8080/"
        },
        "id": "qhSlK7D-19zu",
        "outputId": "b3f9da9c-31ff-43a7-f46f-d0bcae01751f"
      }
    },
    {
      "cell_type": "markdown",
      "source": [
        "Recall that:\n",
        "\n",
        "$\\mu^{\\prime} = \\sum_{i=0}^{2n} \\omega_{m}^{[i]} \\bar{X}^{[i]}$\n",
        "\n",
        "$\\Sigma^{\\prime} = \\sum_{i=0}^{2n} \\omega_{c}^{[i]}\\left(\\bar{X}^{[i]}-\\mu^{\\prime}\\right)\\left(\\bar{X}^{[i]}-\\mu^{\\prime}\\right)^{T}$\n"
      ],
      "metadata": {
        "id": "yqOVCk-k7j8U"
      }
    },
    {
      "cell_type": "code",
      "execution_count": 9,
      "source": [
        "# Covariance for UKF simulation\n",
        "Q = np.diag([\n",
        "    0.1,  # variance of location on x-axis\n",
        "    0.1,  # variance of location on y-axis\n",
        "    np.deg2rad(1.0),  # variance of yaw angle\n",
        "    1.0  # variance of velocity\n",
        "]) ** 2  # predict state covariance\n",
        "\n",
        "def calc_sigma_covariance(x, sigma, wc, Pi):\n",
        "  nSigma = sigma.shape[1]\n",
        "  d = sigma - x[0:sigma.shape[0]]\n",
        "  P = Pi\n",
        "  for i in range(nSigma):\n",
        "    P = P + wc[0, i] * d[:, i:i+1] @ d[:, i:i+1].T\n",
        "  return P\n",
        "\n",
        "xPred = (wm @ perdicted_points.T).T\n",
        "PPred = calc_sigma_covariance(xPred, perdicted_points, wc, Q)\n",
        "xPred.shape, PPred.shape"
      ],
      "outputs": [
        {
          "output_type": "execute_result",
          "data": {
            "text/plain": [
              "((4, 1), (4, 4))"
            ]
          },
          "metadata": {
            "tags": []
          },
          "execution_count": 9
        }
      ],
      "metadata": {
        "colab": {
          "base_uri": "https://localhost:8080/"
        },
        "id": "CszGeICbPftV",
        "outputId": "8e763d77-e75c-4c1a-8568-5c3d76b50d91"
      }
    },
    {
      "cell_type": "markdown",
      "source": [
        "## Update\n",
        "Kalman filters perform the update in measurement space. Thus we must convert the sigma points of the prior into measurements using the measurement function  $h$:\n",
        "\n",
        "$$\n",
        "Z = h(\\bar{X})\n",
        "$$\n",
        "\n",
        "Then we compute the mean and covariance of these points using the unscented transform, $\\mu_z, P_z = UT(Z, w_m, w_c, R)$.\n",
        "> The $z$ subscript denotes that these are the mean and covariance of the measurement sigma points.)\n",
        "\n",
        "$$\\begin{aligned}\n",
        "\\mu_z &= \\sum_{i=0}^{2n} w^m_i Z_i \\\\\n",
        "P_z &= \\sum_{i=0}^{2n} w^c_i{(Z_i-\\mu_z)(Z_i-\\mu_z)^\\mathsf T} + R\n",
        "\\end{aligned}\n",
        "$$\n",
        "\n",
        "where $R$ is Measurement model covariance."
      ],
      "metadata": {
        "id": "fVcxOMCk8qoN"
      }
    },
    {
      "cell_type": "code",
      "execution_count": 10,
      "source": [
        "# Update\n",
        "R = np.diag([1.0, 1.0]) ** 2  # Observation x,y position covariance\n",
        "\n",
        "zSigmaPoints = observation_model(perdicted_points)\n",
        "mu_z = (wm @ zSigmaPoints.T).T\n",
        "P_z = calc_sigma_covariance(mu_z, zSigmaPoints, wc, R)\n",
        "\n",
        "mu_z.shape, P_z.shape"
      ],
      "outputs": [
        {
          "output_type": "execute_result",
          "data": {
            "text/plain": [
              "((2, 1), (2, 2))"
            ]
          },
          "metadata": {
            "tags": []
          },
          "execution_count": 10
        }
      ],
      "metadata": {
        "colab": {
          "base_uri": "https://localhost:8080/"
        },
        "id": "USc2o11lxOY-",
        "outputId": "098d0936-ac4c-4fd5-e942-19db0ffa5445"
      }
    },
    {
      "cell_type": "markdown",
      "source": [
        "Next we compute the residual and Kalman gain. The residual of the measurement $z$ is trivial to compute:\n",
        "\n",
        "$$y = \\mathbf z_m - \\mu_z$$\n",
        "\n",
        "To compute the Kalman gain we first compute the [cross covariance](https://en.wikipedia.org/wiki/Cross-covariance) of the state and the measurements, which is defined as: \n",
        "\n",
        "$$P_{xz} = \\sum_{i=0}^{2n} w^c_i(\\bar{X}_i - \\mu')(Z_i - \\mu_z)^\\mathsf T$$\n",
        "\n",
        "And then the Kalman gain is defined as\n",
        "\n",
        "$$K = P_{xz}P^{-1}_z$$\n",
        "\n",
        "If you think of the inverse as a *kind of* matrix reciprocal, you can see that the Kalman gain is a simple ratio which computes:\n",
        "\n",
        "$$K \\approx \\frac{P_{xz}}{P_z} \n",
        "\\approx \\frac{\\text{belief in state}}{\\text{belief in measurement}}$$\n"
      ],
      "metadata": {
        "id": "gvLXSjvE1wn1"
      }
    },
    {
      "cell_type": "code",
      "execution_count": 11,
      "source": [
        "def calc_pxz(sigma, x, z_sigma, zb, wc):\n",
        "  nSigma = sigma.shape[1]\n",
        "  dx = sigma - x\n",
        "  dz = z_sigma - zb[0:2]\n",
        "  P = np.zeros((dx.shape[0], dz.shape[0]))\n",
        "\n",
        "  for i in range(nSigma):\n",
        "    P = P + wc[0, i] * dx[:, i:i+1] @ dz[:, i:i+1].T\n",
        "  return P\n",
        "\n",
        "y = z - mu_z\n",
        "Pxz = calc_pxz(perdicted_points, xPred, zSigmaPoints, mu_z, wc)\n",
        "K = Pxz @ np.linalg.inv(P_z)\n",
        "y.shape, Pxz.shape, K.shape"
      ],
      "outputs": [
        {
          "output_type": "execute_result",
          "data": {
            "text/plain": [
              "((2, 1), (4, 2), (4, 2))"
            ]
          },
          "metadata": {
            "tags": []
          },
          "execution_count": 11
        }
      ],
      "metadata": {
        "colab": {
          "base_uri": "https://localhost:8080/"
        },
        "id": "lEzxEdnPzBkc",
        "outputId": "d48f1760-5141-41f5-d93f-d266931ee639"
      }
    },
    {
      "cell_type": "markdown",
      "source": [
        "Finally, we compute the new state estimate using the residual and Kalman gain:\n",
        "\n",
        "$$\\mathbf x = \\mu' + Ky$$\n",
        "\n",
        "and the new covariance is computed as:\n",
        "\n",
        "$$\n",
        "\\mathbf P = \\Sigma' - KP_zK^{\\mathsf T}\n",
        "$$"
      ],
      "metadata": {
        "id": "PTLt_vJa4HF9"
      }
    },
    {
      "cell_type": "code",
      "execution_count": 12,
      "source": [
        "xEst = xPred + K @ y\n",
        "PEst = PPred - K @ P_z @ K.T\n",
        "\n",
        "xEst.shape, PEst.shape"
      ],
      "outputs": [
        {
          "output_type": "execute_result",
          "data": {
            "text/plain": [
              "((4, 1), (4, 4))"
            ]
          },
          "metadata": {
            "tags": []
          },
          "execution_count": 12
        }
      ],
      "metadata": {
        "colab": {
          "base_uri": "https://localhost:8080/"
        },
        "id": "uOkhb0nBDCY3",
        "outputId": "20f82800-8936-4b21-c259-84732f5eebe2"
      }
    },
    {
      "cell_type": "code",
      "execution_count": 13,
      "source": [
        "xTrue, xEst"
      ],
      "outputs": [
        {
          "output_type": "execute_result",
          "data": {
            "text/plain": [
              "(array([[0.],\n",
              "        [0.],\n",
              "        [0.],\n",
              "        [0.]]), array([[ 0.93523919],\n",
              "        [-0.07444109],\n",
              "        [ 0.06277945],\n",
              "        [ 1.        ]]))"
            ]
          },
          "metadata": {
            "tags": []
          },
          "execution_count": 13
        }
      ],
      "metadata": {
        "colab": {
          "base_uri": "https://localhost:8080/"
        },
        "id": "11FVdDRPl-Rx",
        "outputId": "577dad73-dd26-4304-dcd4-3fc4f42682e7"
      }
    },
    {
      "cell_type": "markdown",
      "source": [
        "## Sum-up\n",
        "This table compares the equations of the linear KF and UKF equations.\n",
        "\n",
        "$$\\begin{array}{l|l}\n",
        "\\textrm{Kalman Filter} & \\textrm{Unscented Kalman Filter} \\\\\n",
        "\\hline \n",
        "& \\boldsymbol{\\mathcal Y} = f(\\boldsymbol\\chi) \\\\\n",
        "\\mathbf{\\bar x} = \\mathbf{Fx} & \n",
        "\\mathbf{\\bar x} = \\sum w^m\\boldsymbol{\\mathcal Y}  \\\\\n",
        "\\mathbf{\\bar P} = \\mathbf{FPF}^\\mathsf T+\\mathbf Q  & \n",
        "\\mathbf{\\bar P} = \\sum w^c({\\boldsymbol{\\mathcal Y} - \\mathbf{\\bar x})(\\boldsymbol{\\mathcal Y} - \\mathbf{\\bar x})^\\mathsf T}+\\mathbf Q \\\\\n",
        "\\hline \n",
        "& \\boldsymbol{\\mathcal Z} =  h(\\boldsymbol{\\mathcal{Y}}) \\\\\n",
        "& \\boldsymbol\\mu_z = \\sum w^m\\boldsymbol{\\mathcal{Z}} \\\\\n",
        "\\mathbf y = \\mathbf z - \\mathbf{Hx} &\n",
        "\\mathbf y = \\mathbf z - \\boldsymbol\\mu_z \\\\\n",
        "\\mathbf S = \\mathbf{H\\bar PH}^\\mathsf{T} + \\mathbf R & \n",
        "\\mathbf P_z = \\sum w^c{(\\boldsymbol{\\mathcal Z}-\\boldsymbol\\mu_z)(\\boldsymbol{\\mathcal{Z}}-\\boldsymbol\\mu_z)^\\mathsf{T}} + \\mathbf R \\\\ \n",
        "\\mathbf K = \\mathbf{\\bar PH}^\\mathsf T \\mathbf S^{-1} &\n",
        "\\mathbf K = \\left[\\sum w^c(\\boldsymbol{\\mathcal Y}-\\bar{\\mathbf x})(\\boldsymbol{\\mathcal{Z}}-\\boldsymbol\\mu_z)^\\mathsf{T}\\right] \\mathbf P_z^{-1} \\\\\n",
        "\\mathbf x = \\mathbf{\\bar x} + \\mathbf{Ky} & \\mathbf x = \\mathbf{\\bar x} + \\mathbf{Ky}\\\\\n",
        "\\mathbf P = (\\mathbf{I}-\\mathbf{KH})\\mathbf{\\bar P} & \\mathbf P = \\bar{\\mathbf P} - \\mathbf{KP_z}\\mathbf{K}^\\mathsf{T}\n",
        "\\end{array}$$"
      ],
      "metadata": {
        "id": "vREtoA624SXC"
      }
    },
    {
      "cell_type": "code",
      "execution_count": 14,
      "source": [
        "def ukf_estimation(xEst, PEst, z, u, wm, wc, gamma, dt):\n",
        "  # Predict\n",
        "  sigma = generate_sigma_points(xEst, PEst, gamma)\n",
        "  perdicted_points = predict_sigma_motion(sigma, u, dt)\n",
        "  xPred = (wm @ sigma.T).T\n",
        "  PPred = calc_sigma_covariance(xPred, sigma, wc, Q)\n",
        "\n",
        "  # Update\n",
        "  zSigmaPoints = observation_model(sigma)\n",
        "  mu_z = (wm @ zSigmaPoints.T).T\n",
        "  P_z = calc_sigma_covariance(mu_z, zSigmaPoints, wc, R)\n",
        "  Pxz = calc_pxz(perdicted_points, xPred, zSigmaPoints, mu_z, wc)\n",
        "  K = Pxz @ np.linalg.inv(P_z)\n",
        "  y = z - mu_z\n",
        "  xEst = xPred + K @ y\n",
        "  PEst = PPred - K @ P_z @ K.T\n",
        "\n",
        "  return xEst, PEst\n",
        "\n",
        "def setup_ukf(nx, ALPHA, BETA, KAPPA):\n",
        "  lamb = ALPHA ** 2 * (nx + KAPPA) - nx\n",
        "  # calculate weights\n",
        "  wm = [lamb / (lamb + nx)]\n",
        "  wc = [(lamb / (lamb + nx)) + (1 - ALPHA ** 2 + BETA)]\n",
        "  for i in range(2 * nx):\n",
        "      wm.append(1.0 / (2 * (nx + lamb)))\n",
        "      wc.append(1.0 / (2 * (nx + lamb)))\n",
        "  gamma = math.sqrt(nx + lamb)\n",
        "\n",
        "  wm = np.array([wm])\n",
        "  wc = np.array([wc])\n",
        "\n",
        "  return wm, wc, gamma"
      ],
      "outputs": [],
      "metadata": {
        "id": "jVuggEWkPuFt"
      }
    },
    {
      "cell_type": "code",
      "execution_count": 15,
      "source": [
        "def plot_covariance_ellipse(xEst, PEst):  # pragma: no cover\n",
        "  Pxy = PEst[0:2, 0:2]\n",
        "  eigval, eigvec = np.linalg.eig(Pxy)\n",
        "\n",
        "  if eigval[0] >= eigval[1]:\n",
        "    bigind = 0\n",
        "    smallind = 1\n",
        "  else:\n",
        "    bigind = 1\n",
        "    smallind = 0\n",
        "\n",
        "  t = np.arange(0, 2 * math.pi + 0.1, 0.1)\n",
        "  a = math.sqrt(eigval[bigind])\n",
        "  b = math.sqrt(eigval[smallind])\n",
        "  x = [a * math.cos(it) for it in t]\n",
        "  y = [b * math.sin(it) for it in t]\n",
        "  angle = math.atan2(eigvec[1, bigind], eigvec[0, bigind])\n",
        "  rot = Rot.from_euler('z', angle).as_matrix()[0:2, 0:2]\n",
        "  fx = rot @ np.array([x, y])\n",
        "  px = np.array(fx[0, :] + xEst[0, 0]).flatten()\n",
        "  py = np.array(fx[1, :] + xEst[1, 0]).flatten()\n",
        "  plt.plot(px, py, \"--r\")"
      ],
      "outputs": [],
      "metadata": {
        "id": "5l11IMebtopi"
      }
    },
    {
      "cell_type": "code",
      "execution_count": 16,
      "source": [
        "DT = 0.1  # time tick [s]\n",
        "SIM_TIME = 50.0  # simulation time [s]\n",
        "\n",
        "# Covariance for UKF simulation\n",
        "Q = np.diag([\n",
        "    0.1,  # variance of location on x-axis\n",
        "    0.1,  # variance of location on y-axis\n",
        "    np.deg2rad(1.0),  # variance of yaw angle\n",
        "    1.0  # variance of velocity\n",
        "]) ** 2  # predict state covariance\n",
        "R = np.diag([1.0, 1.0]) ** 2  # Observation x,y position covariance\n",
        "\n",
        "# UKF Parameter\n",
        "ALPHA = 0.001\n",
        "BETA = 2\n",
        "KAPPA = 0\n",
        "\n",
        "def main():\n",
        "  nx = 4  # State Vector [x y yaw v]'\n",
        "  xEst = np.zeros((nx, 1))\n",
        "  xTrue = np.zeros((nx, 1))\n",
        "  PEst = np.eye(nx)\n",
        "  xDR = np.zeros((nx, 1))  # Dead reckoning\n",
        "\n",
        "  wm, wc, gamma = setup_ukf(nx, ALPHA, BETA, KAPPA)\n",
        "\n",
        "  # history\n",
        "  hxEst = xEst\n",
        "  hxTrue = xTrue\n",
        "  hxDR = xTrue\n",
        "  hz = np.zeros((2, 1))\n",
        "\n",
        "  plt.figure(figsize=(12,9))\n",
        "  time = 0.0\n",
        "  while SIM_TIME >= time:\n",
        "    time += DT\n",
        "    u = calc_input()\n",
        "\n",
        "    xTrue, z, ud = observation(xTrue, u, DT)\n",
        "    xDR = motion_model(xDR, ud, DT)\n",
        "\n",
        "    xEst, PEst = ukf_estimation(xEst, PEst, z, ud, wm, wc, gamma, dt=DT)\n",
        "\n",
        "    # store data history\n",
        "    hxEst = np.hstack((hxEst, xEst))\n",
        "    hxDR = np.hstack((hxDR, xDR))\n",
        "    hxTrue = np.hstack((hxTrue, xTrue))\n",
        "    hz = np.hstack((hz, z))\n",
        "    if (int(time*10) % 10) == 0:\n",
        "      plot_covariance_ellipse(xEst, PEst)\n",
        "\n",
        "  plt.plot(hxEst[0, :], hxEst[1, :], color='k', lw=2)\n",
        "  plt.plot(hxTrue[0, :], hxTrue[1, :], color='b', lw=2)\n",
        "  plt.plot(hxDR[0, :], hxDR[1, :], color='g', lw=2)\n",
        "\n",
        "  plt.axis('equal')\n",
        "  plt.title(\"UKF Robot localization\")\n",
        "  plt.show()\n",
        "\n",
        "main()"
      ],
      "outputs": [
        {
          "output_type": "display_data",
          "data": {
            "text/plain": [
              "<Figure size 864x648 with 1 Axes>"
            ],
            "image/png": "[encoded data removed]"
          },
          "metadata": {
            "tags": [],
            "needs_background": "light"
          }
        }
      ],
      "metadata": {
        "colab": {
          "base_uri": "https://localhost:8080/",
          "height": 553
        },
        "id": "d7NL-b2K-Pgu",
        "outputId": "b0f133fa-aee8-4981-d488-74c64073a6a7"
      }
    },
    {
      "cell_type": "markdown",
      "source": [
        "## cholesky VS sqrtm\n"
      ],
      "metadata": {
        "id": "8t2dD3WzBRKr"
      }
    },
    {
      "cell_type": "markdown",
      "source": [
        "### 正定矩阵 & 半正定矩阵\n",
        "对于任意长度的非零向量$X$，若：\n",
        "- $X^TAX > 0$，则矩阵$A$为正定矩阵\n",
        "- $X^TAX \\ge 0$，则矩阵$A$为半正定矩阵\n",
        "\n",
        "记转换后的向量$M = AX$，则$X^TAX = X^TM = \\cos(\\theta)\\cdot ||M||\\cdot||X||$，那么意味着：\n",
        "- 对于正定矩阵，$\\cos(\\theta) > 0$，即$\\theta < 90^{\\circ}$\n",
        "- 对于半正定举证，$\\cos(\\theta) \\ge 0$，即$\\theta \\le 90^{\\circ}$\n",
        "\n",
        "矩阵变换$AX$表示向量$X$会沿着该矩阵特征向量的方向进行变换（缩放），缩放比例由特征值$\\lambda$决定。从特征值角度来看：\n",
        "- 正定矩阵所有特征值都大于0\n",
        "- 半正定矩阵所有特征值大于等于0\n",
        "\n",
        "那么正定矩阵小于90度的含义是变换后的向量$M$是沿着原向量$X$的正方向进行缩放的（即$M$投影回原向量时方向不变）。\n",
        "\n",
        "参考资料：\n",
        "- [矩阵的特征值是虚数，它的几何解释是什么？](https://www.zhihu.com/question/319276709/answer/1195620832)\n",
        "- [如何理解正定矩阵和半正定矩阵](https://www.cnblogs.com/marsggbo/p/11461155.html)\n",
        "- 为什么协方差矩阵要是半正定的？[浅谈「正定矩阵」和「半正定矩阵」](https://zhuanlan.zhihu.com/p/44860862)"
      ],
      "metadata": {
        "id": "WtEgINSRHxEn"
      }
    },
    {
      "cell_type": "markdown",
      "source": [
        "### cholesky分解\n",
        "Cholesky 分解是把一个对称正定的矩阵表示成一个下三角矩阵L和其转置的乘积的分解$A = L L^T$。它要求矩阵的所有特征值必须大于零，故分解的下三角的对角元也是大于零的。"
      ],
      "metadata": {
        "id": "jMaQ4-LQHrj9"
      }
    },
    {
      "cell_type": "code",
      "execution_count": 17,
      "source": [
        "A = np.array([[1, 0, 0],\n",
        "        [1, 1, 1],\n",
        "        [2, 1, 1]])\n",
        "\n",
        "np.linalg.eig(A)[0]"
      ],
      "outputs": [
        {
          "output_type": "execute_result",
          "data": {
            "text/plain": [
              "array([2., 0., 1.])"
            ]
          },
          "metadata": {
            "tags": []
          },
          "execution_count": 17
        }
      ],
      "metadata": {
        "colab": {
          "base_uri": "https://localhost:8080/"
        },
        "id": "9wMJ4CH5BQoM",
        "outputId": "1ae2d99d-c9fd-4931-90a5-4d190b666707"
      }
    },
    {
      "cell_type": "markdown",
      "source": [
        "由于$A$的特征值有0（半正定），所以不能用Cholesky分解，这里用`sqrtm`："
      ],
      "metadata": {
        "id": "Ro-QTUDyIR9I"
      }
    },
    {
      "cell_type": "code",
      "execution_count": 18,
      "source": [
        "scipy.linalg.sqrtm(A) @ scipy.linalg.sqrtm(A)"
      ],
      "outputs": [
        {
          "output_type": "execute_result",
          "data": {
            "text/plain": [
              "array([[1., 0., 0.],\n",
              "       [1., 1., 1.],\n",
              "       [2., 1., 1.]])"
            ]
          },
          "metadata": {
            "tags": []
          },
          "execution_count": 18
        }
      ],
      "metadata": {
        "colab": {
          "base_uri": "https://localhost:8080/"
        },
        "id": "LUdtZi2pIRN3",
        "outputId": "060e32fb-bf29-4215-db87-a98494d632ed"
      }
    },
    {
      "cell_type": "markdown",
      "source": [
        "再看下对称正定矩阵：\n"
      ],
      "metadata": {
        "id": "DvtqHfFAIr5r"
      }
    },
    {
      "cell_type": "code",
      "execution_count": 19,
      "source": [
        "B = np.array([[6, -3, 1],\n",
        "        [-3, 2, 0],\n",
        "        [1, 0, 4]])\n",
        "\n",
        "np.linalg.eig(B)[0]"
      ],
      "outputs": [
        {
          "output_type": "execute_result",
          "data": {
            "text/plain": [
              "array([7.81113862, 0.33192769, 3.85693369])"
            ]
          },
          "metadata": {
            "tags": []
          },
          "execution_count": 19
        }
      ],
      "metadata": {
        "colab": {
          "base_uri": "https://localhost:8080/"
        },
        "id": "JjWdFxbeI-fK",
        "outputId": "ac06b60e-cb26-43f4-e692-aa1cdc9aef19"
      }
    },
    {
      "cell_type": "markdown",
      "source": [
        "其特征值都大于0，那么可以用`cholesky`分解:"
      ],
      "metadata": {
        "id": "hwiwdfpBJCCR"
      }
    },
    {
      "cell_type": "code",
      "execution_count": 20,
      "source": [
        "scipy.linalg.cholesky(B).T @ scipy.linalg.cholesky(B)"
      ],
      "outputs": [
        {
          "output_type": "execute_result",
          "data": {
            "text/plain": [
              "array([[ 6.00000000e+00, -3.00000000e+00,  1.00000000e+00],\n",
              "       [-3.00000000e+00,  2.00000000e+00, -4.26642159e-17],\n",
              "       [ 1.00000000e+00, -4.26642159e-17,  4.00000000e+00]])"
            ]
          },
          "metadata": {
            "tags": []
          },
          "execution_count": 20
        }
      ],
      "metadata": {
        "colab": {
          "base_uri": "https://localhost:8080/"
        },
        "id": "J_DEMf1BJBUS",
        "outputId": "0083aa5a-79a0-4bd2-d2de-adde80dc7aba"
      }
    },
    {
      "cell_type": "markdown",
      "source": [
        "# filterpy\n",
        "[Kalman-and-Bayesian-Filters-in-Python](https://github.com/rlabbe/Kalman-and-Bayesian-Filters-in-Python)中实现的[filterpy](https://filterpy.readthedocs.io/en/latest/kalman/UnscentedKalmanFilter.html)。\n",
        "\n",
        "```shell\n",
        "!pip install filterpy\n",
        "```"
      ],
      "metadata": {
        "id": "lYuJgE4NQnmb"
      }
    },
    {
      "cell_type": "code",
      "execution_count": 21,
      "source": [
        "def motion_model(x, dt, u):\n",
        "  F = np.array([[1.0, 0, 0, 0],\n",
        "          [0, 1.0, 0, 0],\n",
        "          [0, 0, 1.0, 0],\n",
        "          [0, 0, 0, 0]])\n",
        "\n",
        "  B = np.array([[dt * math.cos(x[2]), 0],\n",
        "          [dt * math.sin(x[2]), 0],\n",
        "          [0.0, dt],\n",
        "          [1.0, 0.0]])\n",
        "  x = F@x + B@u\n",
        "  return x\n",
        "\n",
        "def observation_model(x):\n",
        "  H = np.array([[1, 0, 0, 0],\n",
        "          [0, 1, 0, 0]])\n",
        "  z = H @ x\n",
        "  return z\n",
        "\n",
        "def observation(xTrue, dt, u):\n",
        "  # Simulation parameter\n",
        "  INPUT_NOISE = np.diag([1.0, np.deg2rad(30.0)]) ** 2\n",
        "  GPS_NOISE = np.diag([0.5, 0.5]) ** 2\n",
        "\n",
        "  xTrue = motion_model(xTrue, dt, u)\n",
        "  # add noise to gps x-y\n",
        "  z = observation_model(xTrue) + GPS_NOISE @ np.random.randn(2)\n",
        "  # add noise to input\n",
        "  ud = u + INPUT_NOISE @ np.random.randn(2, 1)\n",
        "  return xTrue, z, ud"
      ],
      "outputs": [],
      "metadata": {
        "id": "6uar_19gRFtT"
      }
    },
    {
      "cell_type": "code",
      "execution_count": 22,
      "source": [
        "from filterpy.kalman import MerweScaledSigmaPoints\n",
        "from filterpy.kalman import UnscentedKalmanFilter as UKF\n",
        "\n",
        "import numpy as np\n",
        "\n",
        "dt = 0.1\n",
        "sigmas = MerweScaledSigmaPoints(4, alpha=.001, beta=2., kappa=0)\n",
        "ukf = UKF(dim_x=4, dim_z=2, fx=motion_model,\n",
        "      hx=observation_model, dt=dt, points=sigmas)\n",
        "ukf.x = np.zeros((4))\n",
        "\n",
        "# Covariance for UKF simulation\n",
        "ukf.Q = np.diag([\n",
        "    0.1,  # variance of location on x-axis\n",
        "    0.1,  # variance of location on y-axis\n",
        "    np.deg2rad(1.0),  # variance of yaw angle\n",
        "    1.0  # variance of velocity\n",
        "]) ** 2  # predict state covariance\n",
        "ukf.R = np.diag([1.0, 1.0]) ** 2  # Observation x,y position covariance\n",
        "\n",
        "\n",
        "xTrue = np.zeros((4))\n",
        "u = np.array([1, 0.1])\n",
        "uxs = []\n",
        "xs = []\n",
        "for i in range(500):\n",
        "  ukf.predict(u=u)\n",
        "  xTrue, z, _ = observation(xTrue, dt, u)\n",
        "  ukf.update(z)\n",
        "  uxs.append(ukf.x.copy())\n",
        "  xs.append(xTrue)\n",
        "uxs = np.array(uxs).T\n",
        "xs = np.array(xs).T\n",
        "\n",
        "plt.figure(figsize=(12, 9))\n",
        "plt.plot(uxs[0], uxs[1], color='k', lw=2, label='Estimated')\n",
        "plt.plot(xs[0], xs[1], color='g', lw=2, label='True')\n",
        "plt.axis('equal')\n",
        "plt.title(\"UKF Robot localization\")\n",
        "plt.legend()\n",
        "plt.show()\n",
        "\n",
        "print(f'UKF standard deviation {np.std(uxs - xs):.3f} meters')"
      ],
      "outputs": [
        {
          "output_type": "display_data",
          "data": {
            "text/plain": [
              "<Figure size 864x648 with 1 Axes>"
            ],
            "image/png": "[encoded data removed]"
          },
          "metadata": {
            "tags": [],
            "needs_background": "light"
          }
        },
        {
          "output_type": "stream",
          "name": "stdout",
          "text": [
            "UKF standard deviation 0.050 meters\n"
          ]
        }
      ],
      "metadata": {
        "colab": {
          "base_uri": "https://localhost:8080/",
          "height": 571
        },
        "id": "VaHsojrmSGZX",
        "outputId": "adf62250-c843-4649-d2e4-5766905c022e"
      }
    }
  ]
}
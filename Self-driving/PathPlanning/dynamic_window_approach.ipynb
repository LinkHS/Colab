{
  "nbformat": 4,
  "nbformat_minor": 2,
  "metadata": {
    "colab": {
      "name": "dynamic_window_approach.ipynb",
      "provenance": [],
      "collapsed_sections": [],
      "toc_visible": true,
      "authorship_tag": "ABX9TyO4EhS6EiTygpQRJhParC6g",
      "include_colab_link": true
    },
    "kernelspec": {
      "name": "python3",
      "display_name": "Python 3"
    },
    "language_info": {
      "name": "python"
    }
  },
  "cells": [
    {
      "cell_type": "markdown",
      "source": [
        "# Dynamic Window Approach\n",
        "\n",
        "<a href=\"https://colab.research.google.com/github/LinkHS/Colab/blob/master/%20Self-driving/PathPlanning/dynamic_window_approach.ipynb\" target=\"_parent\"><img src=\"https://colab.research.google.com/assets/colab-badge.svg\" alt=\"Open In Colab\"/></a>\n",
        "\n",
        "References:\n",
        "- 论文：[The Dynamic Window Approach to Collision Avoidance](https://www.ri.cmu.edu/pub_files/pub1/fox_dieter_1997_1/fox_dieter_1997_1.pdf)\n",
        "- 代码：[Python Robotics](https://github.com/AtsushiSakai/PythonRobotics/blob/master/PathPlanning/DynamicWindowApproach/dynamic_window_approach.py)"
      ],
      "metadata": {
        "id": "n7Oiv0T4NsIv"
      }
    },
    {
      "cell_type": "code",
      "execution_count": 1,
      "source": [
        "import math\n",
        "from enum import Enum\n",
        "\n",
        "import matplotlib.pyplot as plt\n",
        "import numpy as np\n",
        "\n",
        "show_animation = True"
      ],
      "outputs": [],
      "metadata": {
        "id": "PpXf5HxKLyLr"
      }
    },
    {
      "cell_type": "markdown",
      "source": [
        "车辆本身参数，包括形状（圆形、长方形）、最大/最小速度等："
      ],
      "metadata": {
        "id": "rkY-pCMGeIIJ"
      }
    },
    {
      "cell_type": "code",
      "execution_count": 3,
      "source": [
        "class RobotType(Enum):\n",
        "  circle = 0\n",
        "  rectangle = 1\n",
        "\n",
        "class Config:\n",
        "  \"\"\"\n",
        "  simulation parameter class\n",
        "  \"\"\"\n",
        "  def __init__(self):\n",
        "    # robot parameter\n",
        "    self.max_speed = 1.0  # [m/s]\n",
        "    self.min_speed = -0.5  # [m/s]\n",
        "    self.max_yaw_rate = 40.0 * math.pi / 180.0  # [rad/s]\n",
        "    self.max_accel = 0.2  # [m/ss]\n",
        "    self.max_delta_yaw_rate = 40.0 * math.pi / 180.0  # [rad/ss]\n",
        "    self.v_resolution = 0.01  # [m/s]\n",
        "    self.yaw_rate_resolution = 0.1 * math.pi / 180.0  # [rad/s]\n",
        "    self.dt = 0.1  # [s] Time tick for motion prediction\n",
        "    self.predict_time = 3.0  # [s]\n",
        "    self.to_goal_cost_gain = 0.15\n",
        "    self.speed_cost_gain = 1.0\n",
        "    self.obstacle_cost_gain = 1.0\n",
        "    self.robot_stuck_flag_cons = 0.001  # constant to prevent robot stucked\n",
        "    self.robot_type = RobotType.circle\n",
        "\n",
        "    # if robot_type == RobotType.circle\n",
        "    # Also used to check if goal is reached in both types\n",
        "    self.robot_radius = 1.0  # [m] for collision check\n",
        "\n",
        "    # if robot_type == RobotType.rectangle\n",
        "    self.robot_width = 0.5  # [m] for collision check\n",
        "    self.robot_length = 1.2  # [m] for collision check\n",
        "    # obstacles [x(m) y(m), ....]\n",
        "    self.ob = np.array([[-1, -1],\n",
        "                [0, 2],\n",
        "                [4.0, 2.0],\n",
        "                [5.0, 4.0],\n",
        "                [5.0, 5.0],\n",
        "                [5.0, 6.0],\n",
        "                [5.0, 9.0],\n",
        "                [8.0, 9.0],\n",
        "                [7.0, 9.0],\n",
        "                [8.0, 10.0],\n",
        "                [9.0, 11.0],\n",
        "                [12.0, 13.0],\n",
        "                [12.0, 12.0],\n",
        "                [15.0, 15.0],\n",
        "                [13.0, 13.0]\n",
        "               ])\n",
        "\n",
        "  @property\n",
        "  def robot_type(self):\n",
        "    return self._robot_type\n",
        "\n",
        "  @robot_type.setter\n",
        "  def robot_type(self, value):\n",
        "    if not isinstance(value, RobotType):\n",
        "      raise TypeError(\"robot_type must be an instance of RobotType\")\n",
        "    self._robot_type = value\n"
      ],
      "outputs": [],
      "metadata": {
        "id": "b7UWrTsANXuj"
      }
    },
    {
      "cell_type": "markdown",
      "source": [
        "## 运动方程\n",
        "状态$\\mathbf{x}$：位置$x$（m）、位置$y$（m）、航向角$\\theta$（rad）、速度$v$（m/s）、角速度$\\omega$（rad/s）。\n",
        "\n",
        "控制量$\\mathbf{u}$：加速度、角速度。\n",
        "\n",
        "这里假设车辆（近似）在$\\Delta t$间隔内的速度与角速度是常数：\n",
        "\n",
        "$$\n",
        "x = x + v \\Delta t\\cos(\\theta) \\\\\n",
        "y = y + v \\Delta t\\sin(\\theta) \\\\\n",
        "\\theta = \\theta + \\omega \\Delta t\n",
        "$$"
      ],
      "metadata": {
        "id": "t0UcnjUhphoW"
      }
    },
    {
      "cell_type": "code",
      "execution_count": 4,
      "source": [
        "def motion(x, u, dt):\n",
        "  \"\"\"\n",
        "  motion model\n",
        "  \"\"\"\n",
        "  x[2] += u[1] * dt # 航向角\n",
        "  x[0] += u[0] * math.cos(x[2]) * dt # 位置x\n",
        "  x[1] += u[0] * math.sin(x[2]) * dt # 位置y\n",
        "  x[3] = u[0] # 加速度\n",
        "  x[4] = u[1] # 角速度\n",
        "\n",
        "  return x"
      ],
      "outputs": [],
      "metadata": {
        "id": "bZcCzjdxNzAc"
      }
    },
    {
      "cell_type": "markdown",
      "source": [
        "## 轨迹预测\n"
      ],
      "metadata": {
        "id": "ujuo3F48xxkb"
      }
    },
    {
      "cell_type": "code",
      "execution_count": 5,
      "source": [
        "def predict_trajectory(x_init, v, y, config):\n",
        "  \"\"\"predict trajectory with an input\n",
        "  @v, 加速度\n",
        "  @y, 角速度\n",
        "  \"\"\"\n",
        "  x = np.array(x_init)\n",
        "  trajectory = np.array(x)\n",
        "  time = 0\n",
        "  while time <= config.predict_time:\n",
        "    x = motion(x, [v, y], config.dt)\n",
        "    trajectory = np.vstack((trajectory, x))\n",
        "    time += config.dt\n",
        "\n",
        "  return trajectory"
      ],
      "outputs": [],
      "metadata": {
        "id": "8gfFWJxlM_kV"
      }
    },
    {
      "cell_type": "markdown",
      "source": [
        "### 运动轨迹模拟\n",
        "假设车辆初始时刻所有状态为0，然后以$10m/s^2$的加速度和$30^\\circ/s$的角速度行驶3秒钟："
      ],
      "metadata": {
        "id": "QIfoNWvl3XLv"
      }
    },
    {
      "cell_type": "code",
      "execution_count": 6,
      "source": [
        "import matplotlib.pyplot as plt\n",
        "\n",
        "x = np.array([0.0, 0.0, 0.0, 0.0, 0.0])\n",
        "u = np.array([10.0, np.deg2rad(30)])\n",
        "config = Config()\n",
        "# config.dt = 0.01 # Unit: second\n",
        "config.predict_time = 3\n",
        "\n",
        "x_hst = predict_trajectory(x, u[0], u[1], config)\n",
        "\n",
        "plt.plot(x_hst[:, 0], x_hst[:, 1])\n",
        "plt.xlim(0, 30)\n",
        "plt.ylim(0, 30)\n",
        "plt.show()"
      ],
      "outputs": [
        {
          "output_type": "display_data",
          "data": {
            "text/plain": [
              "<Figure size 432x288 with 1 Axes>"
            ],
            "image/png": "[encoded data removed]"
          },
          "metadata": {
            "tags": [],
            "needs_background": "light"
          }
        }
      ],
      "metadata": {
        "colab": {
          "base_uri": "https://localhost:8080/",
          "height": 269
        },
        "id": "NJA19akCzk5L",
        "outputId": "68ba95b5-40c6-4007-902a-b21192d0a40c"
      }
    },
    {
      "cell_type": "markdown",
      "source": [
        "## 动态窗口确定动作搜索空间\n",
        "\n",
        "车辆本身运动参数$v, \\omega$（速度，角速度）集合$V_s$：$[v_{max}, v_{min}, \\omega_{max}, \\omega_{min}]$\n",
        "\n",
        "动态窗口运动参数集合$V_d$：$[v'_{max}, v'_{min}, \\omega'_{max}, \\omega'_{min}]$，其中$v'_{max} = v + a_{max} \\Delta t$，$v'_{min} = v - a_{max} \\Delta t$，角速度变化范围类似。公式如下：\n",
        "\n",
        "$$\n",
        "V_{d}=\\left\\{(v, \\omega) \\mid v \\in \\left[v_{a}-\\dot{v} \\cdot t, v_{a}+\\dot{v} \\cdot t\\right],\\quad \\omega \\in \\left[\\omega_{a}-\\dot{\\omega} \\cdot t, \\omega_{a}+\\dot{\\omega} \\cdot t\\right]\\right\\}\n",
        "$$\n",
        "\n",
        "算法搜索的动态空间为两者交集：\n",
        "\n",
        "$$\n",
        "V_{r}=V_{s} \\cap V_{d}\n",
        "$$\n",
        "\n",
        "`calc_dynamic_window()`，当给定状态$x$时，根据所定义的机器人的最大加速度和最大转向加速度，给出一个缩小的动作空间`dw`，它是由机器人自身扭力矩大小所完全确定的，下一时刻所能到达的动作空间，大大提高了搜索速度。\n",
        "\n",
        "> 该窗口仅包含下一个时间间隔内可以达到的速度，动态窗口外的所有轨迹都不能在下一个时间间隔内达到，因此可以不考虑避障。"
      ],
      "metadata": {
        "id": "ufmrCnHWZa78"
      }
    },
    {
      "cell_type": "code",
      "execution_count": 7,
      "source": [
        "def calc_dynamic_window(x, config):\n",
        "  \"\"\"\n",
        "  calculation dynamic window based on current state x\n",
        "  \"\"\"\n",
        "  # Dynamic window from robot specification\n",
        "  Vs = [config.min_speed, config.max_speed,\n",
        "      -config.max_yaw_rate, config.max_yaw_rate]\n",
        "\n",
        "  # Dynamic window from motion model\n",
        "  Vd = [x[3] - config.max_accel * config.dt,\n",
        "      x[3] + config.max_accel * config.dt,\n",
        "      x[4] - config.max_delta_yaw_rate * config.dt,\n",
        "      x[4] + config.max_delta_yaw_rate * config.dt]\n",
        "\n",
        "  #  [v_min, v_max, yaw_rate_min, yaw_rate_max]\n",
        "  dw = [max(Vs[0], Vd[0]), min(Vs[1], Vd[1]),\n",
        "      max(Vs[2], Vd[2]), min(Vs[3], Vd[3])]\n",
        "\n",
        "  return dw"
      ],
      "outputs": [],
      "metadata": {
        "id": "W_8nbf6YZIoE"
      }
    },
    {
      "cell_type": "markdown",
      "source": [
        "## 轨迹目标函数\n",
        "目标函数包含三部分：\n",
        "\n",
        "$$\n",
        "\\mathcal{L} = \\alpha \\mathcal{L}_{\\text{obstacle}} + \\beta \\mathcal{L}_{\\text{speed}} + \\gamma \\mathcal{L}_{\\text{goal}} \n",
        "$$\n"
      ],
      "metadata": {
        "id": "dzuoAAkE8q51"
      }
    },
    {
      "cell_type": "markdown",
      "source": [
        "### 距离代价\n",
        "\n",
        "车辆行驶过程中距离障碍物越远越好：\n",
        "\n",
        "$$\n",
        "\\mathcal{L}_\\text{obstacle} = \\left\\{\\begin{matrix}\n",
        "\\infty, & \\quad \\text{any}(r)<0 \\\\\n",
        "1/\\min(r), & \\quad \\text{other}\n",
        "\\end{matrix}\\right.\n",
        "$$\n",
        "\n",
        "计算轨迹点和障碍物的距离：\n",
        "> `a[:, None]`扩展第二维度为1。例如`a.shape=(3,2)`，那么`a[:, None].shape=(3,1,2)`"
      ],
      "metadata": {
        "id": "slPSiNhx91hF"
      }
    },
    {
      "cell_type": "code",
      "execution_count": 8,
      "source": [
        "# 障碍物坐标，数量为3\n",
        "ob = np.array([[-1, -1],\n",
        "         [0, 2],\n",
        "         [4.0, 2.0]])\n",
        "ox = ob[:, 0] # shape: (3,)\n",
        "oy = ob[:, 1] # shape: (3,)\n",
        "\n",
        "# 历史轨迹，数量为5\n",
        "config.predict_time = config.dt * (5-2)\n",
        "trajectory = predict_trajectory(x, u[0], u[1], config)\n",
        "\n",
        "# ox[:, None]扩展了ox的shape为(3, 1)\n",
        "dx = trajectory[:, 0] - ox[:, None]\n",
        "dy = trajectory[:, 1] - oy[:, None]\n",
        "\n",
        "print(trajectory[:, 0].shape, ox[:, None].shape, dx.shape)"
      ],
      "outputs": [
        {
          "output_type": "stream",
          "name": "stdout",
          "text": [
            "(5,) (3, 1) (3, 5)\n"
          ]
        }
      ],
      "metadata": {
        "colab": {
          "base_uri": "https://localhost:8080/"
        },
        "id": "iNWlm514CLey",
        "outputId": "91299e12-d425-4da7-9508-a2a030a0c51d"
      }
    },
    {
      "cell_type": "markdown",
      "source": [
        "结果显示`dx.shape=(3,5)`，表示3个障碍物分别和5个轨迹点的x距离。\n",
        "\n",
        "**(a) 如果车辆是圆形**，直接计算hypotenuse（$r = \\sqrt{dx^2 + dy^2}$）："
      ],
      "metadata": {
        "id": "09KEQwXnFoZ4"
      }
    },
    {
      "cell_type": "code",
      "execution_count": 9,
      "source": [
        "r = np.hypot(dx, dy)\n",
        "r.shape"
      ],
      "outputs": [
        {
          "output_type": "execute_result",
          "data": {
            "text/plain": [
              "(3, 5)"
            ]
          },
          "metadata": {
            "tags": []
          },
          "execution_count": 9
        }
      ],
      "metadata": {
        "colab": {
          "base_uri": "https://localhost:8080/"
        },
        "id": "Sk-lJ1rhDCEn",
        "outputId": "8b8d5be9-f54f-4331-f739-a9ac084b4090"
      }
    },
    {
      "cell_type": "markdown",
      "source": [
        "根据公式计算距离代价："
      ],
      "metadata": {
        "id": "CGuf_oNgYUcD"
      }
    },
    {
      "cell_type": "code",
      "execution_count": 10,
      "source": [
        "if np.array(r <= config.robot_radius).any():\n",
        "  Lo = float(\"Inf\")\n",
        "else:\n",
        "  Lo = 1.0 / np.min(r)\n",
        "\n",
        "print(\"Cost of obstacle is:\", Lo)"
      ],
      "outputs": [
        {
          "output_type": "stream",
          "name": "stdout",
          "text": [
            "Cost of obstacle is: 0.7071067811865475\n"
          ]
        }
      ],
      "metadata": {
        "colab": {
          "base_uri": "https://localhost:8080/"
        },
        "id": "3UCRqHtrWMv0",
        "outputId": "acb6bb3f-9962-479e-9343-2aed8b1a83a4"
      }
    },
    {
      "cell_type": "markdown",
      "source": [
        "**(b) 如果车辆是长方形**，需要考虑车辆方向，首先计算出每个轨迹点方向的旋转矩阵：\n",
        "\n",
        "![](https://images-picgo.oss-cn-shanghai.aliyuncs.com/images/Colab/20210813185146.png)"
      ],
      "metadata": {
        "id": "2zmbFbuTZAvt"
      }
    },
    {
      "cell_type": "code",
      "execution_count": 11,
      "source": [
        "yaw = trajectory[:, 2]\n",
        "# 构建旋转矩阵\n",
        "rot = np.array([[np.cos(yaw), -np.sin(yaw)],\n",
        "          [np.sin(yaw), np.cos(yaw)]])\n",
        "# shape: (2, 2, n) => (n, 2, 2)\n",
        "print(\"Before transpose, the shape is:\", rot.shape)\n",
        "rot = np.transpose(rot, [2, 0, 1])\n",
        "print(\"After transpose, the shape is:\", rot.shape)"
      ],
      "outputs": [
        {
          "output_type": "stream",
          "name": "stdout",
          "text": [
            "Before transpose, the shape is: (2, 2, 5)\n",
            "After transpose, the shape is: (5, 2, 2)\n"
          ]
        }
      ],
      "metadata": {
        "colab": {
          "base_uri": "https://localhost:8080/"
        },
        "id": "ggPi_lItZShx",
        "outputId": "c666d21a-e49b-417a-9926-efd914fd95bf"
      }
    },
    {
      "cell_type": "markdown",
      "source": [
        "然后计算所有障碍物分别在每个轨迹点车辆坐标系下的距离，分为2步：\n",
        "1. 计算障碍物在原点坐标系下和每个轨迹点的距离（不考虑旋转）$(dx, dy)$\n",
        "2. 将$dx, dy$转换到每个轨迹点车辆坐标系下表示：$R \\cdot [dx, dy]^T$"
      ],
      "metadata": {
        "id": "_GcYdY1qeAI4"
      }
    },
    {
      "cell_type": "code",
      "execution_count": 12,
      "source": [
        "# 1. 计算障碍物在原点坐标系下和每个轨迹点的距离（不考虑旋转）\n",
        "# shape: (5, 3, 2) = (5, 1, 2) - (3, 2)\n",
        "local_ob = trajectory[:, None, 0:2] - ob\n",
        "print(local_ob.shape)\n",
        "\n",
        "# 2. 将障碍物距离转换到车辆坐标系下(3, 5, 2) @ (5, 2, 2)\n",
        "local_ob = np.array([l @ x for l, x in zip(local_ob, rot)])\n",
        "print(local_ob.shape)"
      ],
      "outputs": [
        {
          "output_type": "stream",
          "name": "stdout",
          "text": [
            "(5, 3, 2)\n",
            "(5, 3, 2)\n"
          ]
        }
      ],
      "metadata": {
        "colab": {
          "base_uri": "https://localhost:8080/"
        },
        "id": "M-4Wn8Gs-9v9",
        "outputId": "02fa5e84-2c27-4b30-97d9-a38df14ca423"
      }
    },
    {
      "cell_type": "markdown",
      "source": [
        "结果`(5, 3, 2)`为3个障碍物分别在5个轨迹点坐标系下的表示。\n",
        "\n",
        "最后在自己坐标系下直接和本车长宽比较就可以了。\n",
        "\n",
        "这一节所有代码封装至`calc_obstacle_cost()`函数中："
      ],
      "metadata": {
        "id": "GJbRxQFC2gY1"
      }
    },
    {
      "cell_type": "code",
      "execution_count": 13,
      "source": [
        "def calc_obstacle_cost(trajectory, ob, config):\n",
        "  \"\"\"\n",
        "  calc obstacle cost inf: collision\n",
        "  \"\"\"\n",
        "  ox = ob[:, 0]\n",
        "  oy = ob[:, 1]\n",
        "  dx = trajectory[:, 0] - ox[:, None]\n",
        "  dy = trajectory[:, 1] - oy[:, None]\n",
        "  r = np.hypot(dx, dy)\n",
        "\n",
        "  if config.robot_type == RobotType.rectangle:\n",
        "    yaw = trajectory[:, 2]\n",
        "    # 构建旋转矩阵\n",
        "    rot = np.array([[np.cos(yaw), -np.sin(yaw)],\n",
        "              [np.sin(yaw), np.cos(yaw)]])\n",
        "    # shape: (2, 2, n) => (n, 2, 2)\n",
        "    rot = np.transpose(rot, [2, 0, 1]) \n",
        "    \n",
        "    local_ob = ob[:, None] - trajectory[:, 0:2]\n",
        "    local_ob = local_ob.reshape(-1, local_ob.shape[-1])\n",
        "    local_ob = np.array([local_ob @ x for x in rot])\n",
        "\n",
        "    # 1. 计算障碍物在原点坐标系下和每个轨迹点的距离（不考虑旋转）\n",
        "    # n_t: number of trajectory; n_o: number of obstacles\n",
        "    # shape: (n_t, n_o, 2) = (n_t, 1, 2) - (n_o, 2)\n",
        "    local_ob = trajectory[:, None, 0:2] - ob\n",
        "    # 2. 将障碍物距离转换到车辆坐标系下，每次循环：(n_o, 2) X (2, 2)\n",
        "    local_ob = np.array([l @ x for l, x in zip(local_ob, rot)])\n",
        "    # shape (n_t, n_o, 2) => (n_t*n_o, 2)\n",
        "    local_ob = local_ob.reshape(-1, local_ob.shape[-1])\n",
        "\n",
        "    upper_check = local_ob[:, 0] <= config.robot_length / 2\n",
        "    right_check = local_ob[:, 1] <= config.robot_width / 2\n",
        "    bottom_check = local_ob[:, 0] >= -config.robot_length / 2\n",
        "    left_check = local_ob[:, 1] >= -config.robot_width / 2\n",
        "    if (np.logical_and(np.logical_and(upper_check, right_check),\n",
        "               np.logical_and(bottom_check, left_check))).any():\n",
        "      return float(\"Inf\")\n",
        "  elif config.robot_type == RobotType.circle:\n",
        "    if np.array(r <= config.robot_radius).any():\n",
        "        return float(\"Inf\")\n",
        "\n",
        "  min_r = np.min(r)\n",
        "  return 1.0 / min_r  # OK"
      ],
      "outputs": [],
      "metadata": {
        "id": "pKq5W3zyNcuA"
      }
    },
    {
      "cell_type": "markdown",
      "source": [
        "### 目标方向代价\n",
        "![](https://images-picgo.oss-cn-shanghai.aliyuncs.com/images/Colab/20210813185623.png)\n",
        "\n",
        "行进方向与目标方向的夹角越小越好。\n",
        "\n",
        "$$\n",
        "\\mathcal{L}_\\text{goal} = |\\Delta \\theta|\n",
        "$$\n",
        "\n",
        "需要注意的是$\\Delta \\theta$有可能超过180度，所以需要取180度的余数`abs(cost_angle) % np.pi`，也有代码中使用下面这种方式取余数：\n",
        "\n",
        "$cost = \\arctan2(\\sin(\\theta), \\cos(\\theta))$"
      ],
      "metadata": {
        "id": "k0SsGI988uEN"
      }
    },
    {
      "cell_type": "code",
      "execution_count": 14,
      "source": [
        "def calc_to_goal_cost(trajectory, goal):\n",
        "  \"\"\"calc to goal cost with angle difference\n",
        "  \"\"\"\n",
        "  dx = goal[0] - trajectory[-1, 0] # 取轨迹最后一个点\n",
        "  dy = goal[1] - trajectory[-1, 1]\n",
        "  goal_angle = math.atan2(dy, dx) # 目标角度\n",
        "  cost_angle = goal_angle - trajectory[-1, 2] # 减去当前车辆航向角\n",
        "  # OR：cost = abs(cost_angle) % np.pi\n",
        "  cost = abs(math.atan2(math.sin(cost_angle), math.cos(cost_angle)))\n",
        "  return cost"
      ],
      "outputs": [],
      "metadata": {
        "id": "9aIOCVFC-D51"
      }
    },
    {
      "cell_type": "markdown",
      "source": [
        "#### 模拟实验\n",
        "假设目标点为(20, 20)，轨迹最后一个点为(10, 10)，航向角为45度，那么差值应该为0："
      ],
      "metadata": {
        "id": "Tzb29bSHNHKK"
      }
    },
    {
      "cell_type": "code",
      "execution_count": 15,
      "source": [
        "trajectory = np.array([[10, 10, np.deg2rad(45)]])\n",
        "goal = np.array([20, 20])\n",
        "calc_to_goal_cost(trajectory, goal)"
      ],
      "outputs": [
        {
          "output_type": "execute_result",
          "data": {
            "text/plain": [
              "0.0"
            ]
          },
          "metadata": {
            "tags": []
          },
          "execution_count": 15
        }
      ],
      "metadata": {
        "colab": {
          "base_uri": "https://localhost:8080/"
        },
        "id": "k2Uew7qYMhWl",
        "outputId": "1e1e740f-cfbb-4016-949d-e5657a6d27d5"
      }
    },
    {
      "cell_type": "markdown",
      "source": [
        "### 速度代价\n",
        "这一项最简单，也就是车辆速度越大越好：\n",
        "\n",
        "$$\n",
        "\\mathcal{L}_\\text{speed} = V_{max} - V\n",
        "$$\n"
      ],
      "metadata": {
        "id": "fn75sogFN0hc"
      }
    },
    {
      "cell_type": "code",
      "execution_count": 16,
      "source": [
        "trajectory = np.array([[10, 10, np.deg2rad(45), 0]]) # 第四项为速度\n",
        "\n",
        "config.max_speed - trajectory[-1, 3]"
      ],
      "outputs": [
        {
          "output_type": "execute_result",
          "data": {
            "text/plain": [
              "1.0"
            ]
          },
          "metadata": {
            "tags": []
          },
          "execution_count": 16
        }
      ],
      "metadata": {
        "colab": {
          "base_uri": "https://localhost:8080/"
        },
        "id": "W7REng1KWDyQ",
        "outputId": "5f5ebdb5-d86e-45fd-d8ad-73e69571864d"
      }
    },
    {
      "cell_type": "markdown",
      "source": [
        "## 遍历搜索\n",
        "至此，当给定状态x、一个动态窗口dw、目标位置、障碍物位置时，只需要对动态窗口dw内的动作空间（速度$v$和角速度$\\omega$）进行遍历，计算出每一个可能的动作在未来一段时间内所产生的轨迹，并在所有轨迹里找出一条评价最高的轨迹，返回最佳动作和最佳轨迹。"
      ],
      "metadata": {
        "id": "64tzVG6fYAzv"
      }
    },
    {
      "cell_type": "markdown",
      "source": [
        "### 防止陷入局部最优\n",
        "一般情况下车辆应该朝着目标方向前进，但是当前方有障碍物时并且车辆朝向指向目标，此时一种可能的局部最优解：速度为0、方向为0（即角速度为0），此时强制让车辆调整朝向，代码如下：\n",
        "```python\n",
        "if v < config.robot_stuck_flag_cons \\\n",
        "  omega < config.robot_stuck_flag_cons:\n",
        "  omega = -config.max_delta_yaw_rate\n",
        "```"
      ],
      "metadata": {
        "id": "4kY0I0jlscFi"
      }
    },
    {
      "cell_type": "code",
      "execution_count": 17,
      "source": [
        "def calc_control_and_trajectory(x, dw, config, goal, ob):\n",
        "  \"\"\"\n",
        "  calculation final input with dynamic window\n",
        "  \"\"\"\n",
        "  x_init = x[:]\n",
        "  min_cost = float(\"inf\")\n",
        "  best_u = [0.0, 0.0]\n",
        "  best_trajectory = np.array([x])\n",
        "\n",
        "  # evaluate all trajectory with sampled input in dynamic window\n",
        "  for v in np.arange(dw[0], dw[1], config.v_resolution):\n",
        "    for y in np.arange(dw[2], dw[3], config.yaw_rate_resolution):\n",
        "      trajectory = predict_trajectory(x_init, v, y, config)\n",
        "      # calc cost\n",
        "      to_goal_cost = config.to_goal_cost_gain * calc_to_goal_cost(trajectory, goal)\n",
        "      speed_cost = config.speed_cost_gain * (config.max_speed - trajectory[-1, 3])\n",
        "      ob_cost = config.obstacle_cost_gain * calc_obstacle_cost(trajectory, ob, config)\n",
        "\n",
        "      final_cost = to_goal_cost + speed_cost + ob_cost\n",
        "\n",
        "      # search minimum trajectory\n",
        "      if min_cost >= final_cost:\n",
        "        min_cost = final_cost\n",
        "        best_u = [v, y]\n",
        "        best_trajectory = trajectory\n",
        "        if abs(best_u[0]) < config.robot_stuck_flag_cons \\\n",
        "          and abs(x[3]) < config.robot_stuck_flag_cons:\n",
        "          # to ensure the robot do not get stuck in\n",
        "          # best v=0 m/s (in front of an obstacle) and\n",
        "          # best omega=0 rad/s (heading to the goal with\n",
        "          # angle difference of 0)\n",
        "          best_u[1] = -config.max_delta_yaw_rate\n",
        "  return best_u, best_trajectory\n"
      ],
      "outputs": [],
      "metadata": {
        "id": "Fk8fvav6NIUQ"
      }
    },
    {
      "cell_type": "markdown",
      "source": [
        "## 初始化"
      ],
      "metadata": {
        "id": "Y7QejNArWB12"
      }
    },
    {
      "cell_type": "markdown",
      "source": [
        "初始化状态x：位置x（m）、位置y（m）、航向角yaw（rad）、速度v（m/s）、角速度w（rad/s）\n",
        "\n",
        "目标位置goal：gx，gy\n",
        "\n",
        "仿真参数config：最大/最小速度、拐弯半径、障碍物等"
      ],
      "metadata": {
        "id": "E66kvo8tOfM0"
      }
    },
    {
      "cell_type": "code",
      "execution_count": 18,
      "source": [
        "# initial state [x(m), y(m), yaw(rad), v(m/s), omega(rad/s)]\n",
        "x = np.array([0.0, 0.0, math.pi / 8.0, 0.0, 0.0])\n",
        "# goal position [x(m), y(m)]\n",
        "goal = np.array([10.0, 10.0])\n",
        "\n",
        "# input [forward speed, yaw_rate]\n",
        "config.robot_type = RobotType.circle\n",
        "trajectory = np.array(x)\n",
        "\n",
        "config = Config()"
      ],
      "outputs": [],
      "metadata": {
        "id": "4zcPep3oORCa"
      }
    },
    {
      "cell_type": "markdown",
      "source": [
        "障碍物位置："
      ],
      "metadata": {
        "id": "ZoPucvb0Vz-M"
      }
    },
    {
      "cell_type": "code",
      "execution_count": 19,
      "source": [
        "ob = config.ob # obstacles [[x(m) y(m)], ....]\n",
        "ob"
      ],
      "outputs": [
        {
          "output_type": "execute_result",
          "data": {
            "text/plain": [
              "array([[-1., -1.],\n",
              "       [ 0.,  2.],\n",
              "       [ 4.,  2.],\n",
              "       [ 5.,  4.],\n",
              "       [ 5.,  5.],\n",
              "       [ 5.,  6.],\n",
              "       [ 5.,  9.],\n",
              "       [ 8.,  9.],\n",
              "       [ 7.,  9.],\n",
              "       [ 8., 10.],\n",
              "       [ 9., 11.],\n",
              "       [12., 13.],\n",
              "       [12., 12.],\n",
              "       [15., 15.],\n",
              "       [13., 13.]])"
            ]
          },
          "metadata": {
            "tags": []
          },
          "execution_count": 19
        }
      ],
      "metadata": {
        "colab": {
          "base_uri": "https://localhost:8080/"
        },
        "id": "lyvqD4kdUL5m",
        "outputId": "9028b3bd-7b8b-408a-d3a1-335b4f8909be"
      }
    },
    {
      "cell_type": "markdown",
      "source": [
        "## 模拟实验"
      ],
      "metadata": {
        "id": "xvdS4zLcOSOF"
      }
    },
    {
      "cell_type": "code",
      "execution_count": 20,
      "source": [
        "def plot_arrow(x, y, yaw, length=0.5, width=0.1):  # pragma: no cover\n",
        "  plt.arrow(x, y, length*math.cos(yaw), length*math.sin(yaw),\n",
        "       head_length=width, head_width=width)\n",
        "  plt.plot(x, y)\n",
        "\n",
        "\n",
        "def plot_robot(x, y, yaw, config):  # pragma: no cover\n",
        "  if config.robot_type == RobotType.rectangle:\n",
        "    outline = np.array([[-config.robot_length / 2, config.robot_length / 2,\n",
        "                (config.robot_length / 2), -config.robot_length / 2,\n",
        "                -config.robot_length / 2],\n",
        "                [config.robot_width / 2, config.robot_width / 2,\n",
        "                - config.robot_width / 2, -config.robot_width / 2,\n",
        "                config.robot_width / 2]])\n",
        "    Rot1 = np.array([[math.cos(yaw), math.sin(yaw)],\n",
        "              [-math.sin(yaw), math.cos(yaw)]])\n",
        "    outline = (outline.T.dot(Rot1)).T\n",
        "    outline[0, :] += x\n",
        "    outline[1, :] += y\n",
        "    plt.plot(np.array(outline[0, :]).flatten(),\n",
        "         np.array(outline[1, :]).flatten(), \"-k\")\n",
        "  elif config.robot_type == RobotType.circle:\n",
        "    circle = plt.Circle((x, y), config.robot_radius, color=\"b\")\n",
        "    plt.gcf().gca().add_artist(circle)\n",
        "    out_x, out_y = (np.array([x, y]) +\n",
        "              np.array([np.cos(yaw), np.sin(yaw)]) * config.robot_radius)\n",
        "    plt.plot([x, out_x], [y, out_y], \"-k\")\n"
      ],
      "outputs": [],
      "metadata": {
        "id": "YoczXulm-UiG"
      }
    },
    {
      "cell_type": "code",
      "execution_count": 21,
      "source": [
        "from IPython import display\n",
        "\n",
        "def main(gx=10.0, gy=10.0, robot_type=RobotType.circle):\n",
        "  # initial state [x(m), y(m), yaw(rad), v(m/s), omega(rad/s)]\n",
        "  x = np.array([0.0, 0.0, math.pi / 8.0, 0.0, 0.0])\n",
        "  # goal position [x(m), y(m)]\n",
        "  goal = np.array([gx, gy])\n",
        "\n",
        "  # input [forward speed, yaw_rate]\n",
        "\n",
        "  config.robot_type = robot_type\n",
        "  trajectory = np.array(x)\n",
        "  ob = config.ob\n",
        "\n",
        "  fig = plt.figure()\n",
        "  plt.axis(\"equal\")\n",
        "  plt.grid(True)\n",
        "  while True:\n",
        "    dw = calc_dynamic_window(x, config)\n",
        "    u, predicted_trajectory = calc_control_and_trajectory(x, dw, config, goal, ob)\n",
        "    x = motion(x, u, config.dt)  # simulate robot\n",
        "    trajectory = np.vstack((trajectory, x))  # store state history\n",
        "\n",
        "    if show_animation:\n",
        "      plt.cla()\n",
        "      plt.plot(predicted_trajectory[:, 0], predicted_trajectory[:, 1], \"-g\")\n",
        "      plt.plot(x[0], x[1], \"xr\")\n",
        "      plt.plot(goal[0], goal[1], \"xb\")\n",
        "      plt.plot(ob[:, 0], ob[:, 1], \"ok\")\n",
        "      plot_robot(x[0], x[1], x[2], config)\n",
        "      plot_arrow(x[0], x[1], x[2])\n",
        "      display.display(fig)\n",
        "      display.clear_output(wait=True)\n",
        "\n",
        "    # check reaching goal\n",
        "    dist_to_goal = math.hypot(x[0] - goal[0], x[1] - goal[1])\n",
        "    if dist_to_goal <= config.robot_radius:\n",
        "      print(\"Goal!!\")\n",
        "      break\n",
        "\n",
        "  print(\"Done\")\n",
        "  if show_animation:\n",
        "    plt.plot(trajectory[:, 0], trajectory[:, 1], \"-r\")\n",
        "    display.display(fig)\n",
        "    display.clear_output(wait=True)"
      ],
      "outputs": [],
      "metadata": {
        "id": "TiG4tWGvNMEE"
      }
    },
    {
      "cell_type": "code",
      "execution_count": 22,
      "source": [
        "main(robot_type=RobotType.rectangle)"
      ],
      "outputs": [
        {
          "output_type": "display_data",
          "data": {
            "text/plain": [
              "<Figure size 432x288 with 1 Axes>"
            ],
            "image/png": "[encoded data removed]"
          },
          "metadata": {
            "tags": [],
            "needs_background": "light"
          }
        }
      ],
      "metadata": {
        "colab": {
          "base_uri": "https://localhost:8080/",
          "height": 265
        },
        "id": "uDJY6aZWhNBz",
        "outputId": "b6ceed0d-8a03-48d3-cdc0-50c4ce51f354"
      }
    },
    {
      "cell_type": "markdown",
      "source": [
        "---\n",
        "## 附录：Numpy中的Broadcast\n",
        "Numpy中，当运算符两边变量的shape不满足运算符要求时，在满足一些规则下，Numpy会启动Broadcast，例如下面$a-b$："
      ],
      "metadata": {
        "id": "1klFgC3TmnYR"
      }
    },
    {
      "cell_type": "code",
      "execution_count": 23,
      "source": [
        "import numpy as np\n",
        "\n",
        "a = np.zeros((3,3))\n",
        "b = np.array([1])\n",
        "print(a-b, '\\n\\n', b-a, '\\n')\n",
        "a.shape, b.shape, (a-b).shape, (b-a).shape"
      ],
      "outputs": [
        {
          "output_type": "stream",
          "name": "stdout",
          "text": [
            "[[-1. -1. -1.]\n",
            " [-1. -1. -1.]\n",
            " [-1. -1. -1.]] \n",
            "\n",
            " [[1. 1. 1.]\n",
            " [1. 1. 1.]\n",
            " [1. 1. 1.]] \n",
            "\n"
          ]
        },
        {
          "output_type": "execute_result",
          "data": {
            "text/plain": [
              "((3, 3), (1,), (3, 3), (3, 3))"
            ]
          },
          "metadata": {
            "tags": []
          },
          "execution_count": 23
        }
      ],
      "metadata": {
        "colab": {
          "base_uri": "https://localhost:8080/"
        },
        "id": "Aavbz5zlrCa2",
        "outputId": "59dc894f-178a-4b6d-8b45-8226e24ac7c6"
      }
    },
    {
      "cell_type": "markdown",
      "source": [
        "当$a, b$的shape一样时，$a-b$为element-wise。\n",
        "\n",
        "当$a,b$维度不相等时候，例如`a1 = a[:, None]`维度从$3\\times3$变为了$3\\times 1 \\times 3$，那么$a1-b$就用到了Broadcast性质，即$a1$的第一行（其shape为$1 \\times 3$）分别减$b$的每一行（每个shape都为$1 \\times 3$），然后$a1$的第二行、第三行......"
      ],
      "metadata": {
        "id": "XAh-H6nltrSN"
      }
    },
    {
      "cell_type": "code",
      "execution_count": 24,
      "source": [
        "a = np.eye(3, 3)\n",
        "b = np.arange(9).reshape(3, 3)\n",
        "a1 = a[:, None]\n",
        "\n",
        "print(a1.shape, b.shape, (a1-b).shape, '\\n')\n",
        "a1-b"
      ],
      "outputs": [
        {
          "output_type": "stream",
          "name": "stdout",
          "text": [
            "(3, 1, 3) (3, 3) (3, 3, 3) \n",
            "\n"
          ]
        },
        {
          "output_type": "execute_result",
          "data": {
            "text/plain": [
              "array([[[ 1., -1., -2.],\n",
              "        [-2., -4., -5.],\n",
              "        [-5., -7., -8.]],\n",
              "\n",
              "       [[ 0.,  0., -2.],\n",
              "        [-3., -3., -5.],\n",
              "        [-6., -6., -8.]],\n",
              "\n",
              "       [[ 0., -1., -1.],\n",
              "        [-3., -4., -4.],\n",
              "        [-6., -7., -7.]]])"
            ]
          },
          "metadata": {
            "tags": []
          },
          "execution_count": 24
        }
      ],
      "metadata": {
        "colab": {
          "base_uri": "https://localhost:8080/"
        },
        "id": "S0fyvI3OrbhD",
        "outputId": "9d90c645-50a4-4899-da38-4d2a2385e537"
      }
    },
    {
      "cell_type": "markdown",
      "source": [
        "所以$a1, b$第一维也不需要相等（这里分别是5和3），只需要保证相减的维度是一样的，这里是$(1\\times 3) - 3\\times (1 \\times 3)$："
      ],
      "metadata": {
        "id": "KNP2wkLLwq48"
      }
    },
    {
      "cell_type": "code",
      "execution_count": 25,
      "source": [
        "a = np.eye(5, 3)\n",
        "b = np.arange(9).reshape(3, 3)\n",
        "a1 = a[:, None]\n",
        "\n",
        "print(a1.shape, b.shape, (a1-b).shape, '\\n')\n",
        "a1-b"
      ],
      "outputs": [
        {
          "output_type": "stream",
          "name": "stdout",
          "text": [
            "(5, 1, 3) (3, 3) (5, 3, 3) \n",
            "\n"
          ]
        },
        {
          "output_type": "execute_result",
          "data": {
            "text/plain": [
              "array([[[ 1., -1., -2.],\n",
              "        [-2., -4., -5.],\n",
              "        [-5., -7., -8.]],\n",
              "\n",
              "       [[ 0.,  0., -2.],\n",
              "        [-3., -3., -5.],\n",
              "        [-6., -6., -8.]],\n",
              "\n",
              "       [[ 0., -1., -1.],\n",
              "        [-3., -4., -4.],\n",
              "        [-6., -7., -7.]],\n",
              "\n",
              "       [[ 0., -1., -2.],\n",
              "        [-3., -4., -5.],\n",
              "        [-6., -7., -8.]],\n",
              "\n",
              "       [[ 0., -1., -2.],\n",
              "        [-3., -4., -5.],\n",
              "        [-6., -7., -8.]]])"
            ]
          },
          "metadata": {
            "tags": []
          },
          "execution_count": 25
        }
      ],
      "metadata": {
        "colab": {
          "base_uri": "https://localhost:8080/"
        },
        "id": "bFGpUx7ss8DH",
        "outputId": "2ad94185-8139-4122-8ce7-6dd8f6969cd7"
      }
    },
    {
      "cell_type": "markdown",
      "source": [
        "同理$b-a1$和$a1-b$的结果只差个正负号："
      ],
      "metadata": {
        "id": "fGyf0W7hy9qf"
      }
    },
    {
      "cell_type": "code",
      "execution_count": 26,
      "source": [
        "a = np.eye(5, 3)\n",
        "b = np.arange(9).reshape(3, 3)\n",
        "a1 = a[:, None]\n",
        "\n",
        "print(a1.shape, b.shape, (b-a1).shape, '\\n')\n",
        "(b-a1)"
      ],
      "outputs": [
        {
          "output_type": "stream",
          "name": "stdout",
          "text": [
            "(5, 1, 3) (3, 3) (5, 3, 3) \n",
            "\n"
          ]
        },
        {
          "output_type": "execute_result",
          "data": {
            "text/plain": [
              "array([[[-1.,  1.,  2.],\n",
              "        [ 2.,  4.,  5.],\n",
              "        [ 5.,  7.,  8.]],\n",
              "\n",
              "       [[ 0.,  0.,  2.],\n",
              "        [ 3.,  3.,  5.],\n",
              "        [ 6.,  6.,  8.]],\n",
              "\n",
              "       [[ 0.,  1.,  1.],\n",
              "        [ 3.,  4.,  4.],\n",
              "        [ 6.,  7.,  7.]],\n",
              "\n",
              "       [[ 0.,  1.,  2.],\n",
              "        [ 3.,  4.,  5.],\n",
              "        [ 6.,  7.,  8.]],\n",
              "\n",
              "       [[ 0.,  1.,  2.],\n",
              "        [ 3.,  4.,  5.],\n",
              "        [ 6.,  7.,  8.]]])"
            ]
          },
          "metadata": {
            "tags": []
          },
          "execution_count": 26
        }
      ],
      "metadata": {
        "colab": {
          "base_uri": "https://localhost:8080/"
        },
        "id": "_wbxOzyCsILW",
        "outputId": "bb4f7acc-ec6a-4025-e4df-3fd9ff61b88b"
      }
    }
  ]
}
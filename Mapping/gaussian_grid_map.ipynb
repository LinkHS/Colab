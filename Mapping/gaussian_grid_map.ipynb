{
  "nbformat": 4,
  "nbformat_minor": 0,
  "metadata": {
    "colab": {
      "name": "gaussian_grid_map.ipynb",
      "provenance": [],
      "collapsed_sections": [],
      "toc_visible": true,
      "authorship_tag": "ABX9TyPVzOO/0ZhMQbjWUbVVcwWP",
      "include_colab_link": true
    },
    "kernelspec": {
      "name": "python3",
      "display_name": "Python 3"
    },
    "language_info": {
      "name": "python"
    }
  },
  "cells": [
    {
      "cell_type": "markdown",
      "metadata": {
        "id": "view-in-github",
        "colab_type": "text"
      },
      "source": [
        "<a href=\"https://colab.research.google.com/github/LinkHS/Colab/blob/main/Mapping/gaussian_grid_map.ipynb\" target=\"_parent\"><img src=\"https://colab.research.google.com/assets/colab-badge.svg\" alt=\"Open In Colab\"/></a>"
      ]
    },
    {
      "cell_type": "code",
      "metadata": {
        "id": "7VWf6FsvwdSV"
      },
      "source": [
        "import math\n",
        "import numpy as np\n",
        "import matplotlib.pyplot as plt\n",
        "from scipy.stats import norm"
      ],
      "execution_count": 1,
      "outputs": []
    },
    {
      "cell_type": "code",
      "metadata": {
        "id": "uo0D876hwjBf"
      },
      "source": [
        "def generate_gaussian_grid_map(ox, oy, xyreso, std):\n",
        "  minx, miny, maxx, maxy, xw, yw = calc_grid_map_config(ox, oy, xyreso)\n",
        "\n",
        "  gmap = [[0.0 for i in range(yw)] for i in range(xw)]\n",
        "\n",
        "  for ix in range(xw):\n",
        "    for iy in range(yw):\n",
        "      x = ix * xyreso + minx\n",
        "      y = iy * xyreso + miny\n",
        "\n",
        "      # Search minimum distance\n",
        "      mindis = float(\"inf\")\n",
        "      for (iox, ioy) in zip(ox, oy):\n",
        "        d = math.hypot(iox - x, ioy - y)\n",
        "        if mindis >= d:\n",
        "          mindis = d\n",
        "\n",
        "      pdf = (1.0 - norm.cdf(mindis, 0.0, std))\n",
        "      gmap[ix][iy] = pdf\n",
        "\n",
        "  return gmap, minx, maxx, miny, maxy"
      ],
      "execution_count": 6,
      "outputs": []
    },
    {
      "cell_type": "code",
      "metadata": {
        "id": "itvLObQXxMm0"
      },
      "source": [
        "EXTEND_AREA = 10.0  # [m] grid map extention length\n",
        "\n",
        "def calc_grid_map_config(ox, oy, xyreso):\n",
        "  minx = round(min(ox) - EXTEND_AREA / 2.0)\n",
        "  miny = round(min(oy) - EXTEND_AREA / 2.0)\n",
        "  maxx = round(max(ox) + EXTEND_AREA / 2.0)\n",
        "  maxy = round(max(oy) + EXTEND_AREA / 2.0)\n",
        "  xw = int(round((maxx - minx) / xyreso))\n",
        "  yw = int(round((maxy - miny) / xyreso))\n",
        "\n",
        "  return minx, miny, maxx, maxy, xw, yw"
      ],
      "execution_count": 2,
      "outputs": []
    },
    {
      "cell_type": "code",
      "metadata": {
        "id": "SMjmq4FjxPfx"
      },
      "source": [
        "def draw_heatmap(data, minx, maxx, miny, maxy, xyreso):\n",
        "  x, y = np.mgrid[slice(minx - xyreso/2.0, maxx + xyreso/2.0, xyreso),\n",
        "                slice(miny - xyreso/2.0, maxy + xyreso/2.0, xyreso)]\n",
        "  plt.pcolor(x, y, data, vmax=1.0, cmap=plt.cm.Blues)\n",
        "  plt.axis(\"equal\")"
      ],
      "execution_count": 3,
      "outputs": []
    },
    {
      "cell_type": "code",
      "metadata": {
        "colab": {
          "base_uri": "https://localhost:8080/",
          "height": 265
        },
        "id": "rcM5HR5Xxqds",
        "outputId": "8b0ae128-8f8f-419f-e854-d29ceae940b0"
      },
      "source": [
        "from IPython import display\n",
        "\n",
        "def main(show_animation=True):\n",
        "  xyreso = 0.5  # xy grid resolution\n",
        "  STD = 5.0  # standard diviation for gaussian distribution\n",
        "  fig = plt.figure()\n",
        "\n",
        "  for i in range(5):\n",
        "    ox = (np.random.rand(4) - 0.5) * 10.0\n",
        "    oy = (np.random.rand(4) - 0.5) * 10.0\n",
        "    gmap, minx, maxx, miny, maxy = generate_gaussian_grid_map(\n",
        "        ox, oy, xyreso, STD)\n",
        "\n",
        "    if show_animation:  # pragma: no cover\n",
        "      plt.cla()\n",
        "      draw_heatmap(gmap, minx, maxx, miny, maxy, xyreso)\n",
        "      plt.plot(ox, oy, \"xr\")\n",
        "      plt.plot(0.0, 0.0, \"ob\")\n",
        "      display.display(fig)\n",
        "      time.sleep(1)\n",
        "      display.clear_output(wait=True)\n",
        "\n",
        "main()"
      ],
      "execution_count": 29,
      "outputs": [
        {
          "output_type": "display_data",
          "data": {
            "image/png": "[encoded data removed]",
            "text/plain": [
              "<Figure size 432x288 with 1 Axes>"
            ]
          },
          "metadata": {
            "tags": [],
            "needs_background": "light"
          }
        }
      ]
    }
  ]
}
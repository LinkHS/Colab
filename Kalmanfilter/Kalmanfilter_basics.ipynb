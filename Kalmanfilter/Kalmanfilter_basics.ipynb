{
  "nbformat": 4,
  "nbformat_minor": 2,
  "metadata": {
    "kernelspec": {
      "display_name": "Python 3",
      "language": "python",
      "name": "python3"
    },
    "language_info": {
      "codemirror_mode": {
        "name": "ipython",
        "version": 3
      },
      "file_extension": ".py",
      "mimetype": "text/x-python",
      "name": "python",
      "nbconvert_exporter": "python",
      "pygments_lexer": "ipython3",
      "version": "3.6.6"
    },
    "pycharm": {
      "stem_cell": {
        "cell_type": "raw",
        "source": [],
        "metadata": {
          "collapsed": false
        }
      }
    },
    "colab": {
      "name": "Kalmanfilter_basics.ipynb",
      "provenance": [],
      "collapsed_sections": [],
      "toc_visible": true
    }
  },
  "cells": [
    {
      "cell_type": "markdown",
      "source": [
        "# KF Basics - Part I\n"
      ],
      "metadata": {
        "id": "Ae_w1jzVtYHG"
      }
    },
    {
      "cell_type": "code",
      "execution_count": 1,
      "source": [
        "#!pip install scipy"
      ],
      "outputs": [],
      "metadata": {
        "id": "ThXMBGpSyioZ"
      }
    },
    {
      "cell_type": "markdown",
      "source": [
        "## What is Expectation of a Random Variables?\n",
        " Expectation is nothing but an average of the probabilites\n",
        " \n",
        "$$\\mathbb E[X] = \\sum_{i=1}^n p_ix_i$$\n",
        "\n",
        "In the continous form,\n",
        "\n",
        "$$\\mathbb E[X] = \\int_{-\\infty}^\\infty x\\, f(x) \\,dx$$\n"
      ],
      "metadata": {
        "id": "Vy0SziOatYHJ"
      }
    },
    {
      "cell_type": "code",
      "execution_count": 2,
      "source": [
        "import numpy as np\n",
        "import random\n",
        "x = [3, 1, 2]\n",
        "p = [0.1, 0.3, 0.4]\n",
        "E_x = np.sum(np.multiply(x, p))\n",
        "print(E_x)"
      ],
      "outputs": [
        {
          "output_type": "stream",
          "name": "stdout",
          "text": [
            "1.4000000000000001\n"
          ]
        }
      ],
      "metadata": {
        "id": "f_G798cctYHJ",
        "colab": {
          "base_uri": "https://localhost:8080/"
        },
        "outputId": "46a08249-825a-47be-a8f1-398a259d45cc"
      }
    },
    {
      "cell_type": "markdown",
      "source": [
        "## Variance, Covariance and Correlation\n",
        "\n",
        "### Variance\n",
        "Variance is the spread of the data. The mean does'nt tell much **about** the data. Therefore the variance tells us about the **story** about the data meaning the spread of the data.\n",
        "\n",
        "$$\\mathit{VAR}(X) = \\frac{1}{n}\\sum_{i=1}^n (x_i - \\mu)^2$$"
      ],
      "metadata": {
        "id": "3TpWLu3ftYHL"
      }
    },
    {
      "cell_type": "code",
      "execution_count": 3,
      "source": [
        "x = np.random.randn(10)\n",
        "np.var(x)"
      ],
      "outputs": [
        {
          "output_type": "execute_result",
          "data": {
            "text/plain": [
              "1.140177413288341"
            ]
          },
          "metadata": {
            "tags": []
          },
          "execution_count": 3
        }
      ],
      "metadata": {
        "id": "ZEWZn-35tYHL",
        "colab": {
          "base_uri": "https://localhost:8080/"
        },
        "outputId": "29a37569-f4ff-4514-ee90-a7404b8725d9"
      }
    },
    {
      "cell_type": "markdown",
      "source": [
        "#### Covariance\n",
        "\n",
        "This is for a multivariate distribution. For example, a robot in 2-D space can take values in both x and y. To describe them, a normal distribution with mean in both x and y is needed.\n",
        "\n",
        "For a multivariate distribution, mean $\\mu$ can be represented as a matrix, \n",
        "\n",
        "$$\n",
        "\\mu = \\begin{bmatrix}\\mu_1\\\\\\mu_2\\\\ \\vdots \\\\\\mu_n\\end{bmatrix}\n",
        "$$\n",
        "\n",
        "\n",
        "Similarly, variance can also be represented.\n",
        "\n",
        "But an important concept is that in the same way as every variable or dimension has a variation in its values, it is also possible that there will be values on how they **together vary**. This is also a measure of how two datasets are related to each other or **correlation**.\n",
        "\n",
        "For example, as height increases weight also generally increases. These variables are correlated. They are positively correlated because as one variable gets larger so does the other.\n",
        "\n",
        "We use a **covariance matrix** to denote covariances of a multivariate normal distribution:\n",
        "$$\n",
        "\\Sigma = \\begin{bmatrix}\n",
        "  \\sigma_1^2 & \\sigma_{12} & \\cdots & \\sigma_{1n} \\\\\n",
        "  \\sigma_{21} &\\sigma_2^2 & \\cdots & \\sigma_{2n} \\\\\n",
        "  \\vdots  & \\vdots  & \\ddots & \\vdots  \\\\\n",
        "  \\sigma_{n1} & \\sigma_{n2} & \\cdots & \\sigma_n^2\n",
        " \\end{bmatrix}\n",
        "$$\n",
        "\n",
        "**Diagonal** - Variance of each variable associated. \n",
        "\n",
        "**Off-Diagonal** - covariance between $i$th and $j$th variables.\n",
        "\n",
        "$$\\begin{aligned}VAR(X) = \\sigma_x^2 &=  \\frac{1}{n}\\sum_{i=1}^n(X - \\mu)^2\\\\\n",
        "COV(X, Y) = \\sigma_{xy} &= \\frac{1}{n}\\sum_{i=1}^n[(X-\\mu_x)(Y-\\mu_y)\\big]\\end{aligned}$$"
      ],
      "metadata": {
        "id": "sgjLjpLJtYHM"
      }
    },
    {
      "cell_type": "markdown",
      "source": [
        "Covariance taking the data as **sample** with $\\frac{1}{N-1}$"
      ],
      "metadata": {
        "id": "c9Q56n7etYHN"
      }
    },
    {
      "cell_type": "code",
      "execution_count": 4,
      "source": [
        "x_cor = np.random.rand(1,10)\n",
        "y_cor = np.random.rand(1,10)\n",
        "np.cov(x_cor, y_cor)"
      ],
      "outputs": [
        {
          "output_type": "execute_result",
          "data": {
            "text/plain": [
              "array([[0.11144314, 0.03499291],\n",
              "       [0.03499291, 0.06883689]])"
            ]
          },
          "metadata": {
            "tags": []
          },
          "execution_count": 4
        }
      ],
      "metadata": {
        "id": "AKMkthZ3tYHN",
        "colab": {
          "base_uri": "https://localhost:8080/"
        },
        "outputId": "a5868ba3-92b6-4b9d-ba93-c3a9610f8263"
      }
    },
    {
      "cell_type": "markdown",
      "source": [
        "Covariance taking the data as **population** with $\\frac{1}{N}$"
      ],
      "metadata": {
        "id": "YeTdfHL1tYHO"
      }
    },
    {
      "cell_type": "code",
      "execution_count": 5,
      "source": [
        "np.cov(x_cor, y_cor, bias=1)"
      ],
      "outputs": [
        {
          "output_type": "execute_result",
          "data": {
            "text/plain": [
              "array([[0.10029882, 0.03149362],\n",
              "       [0.03149362, 0.0619532 ]])"
            ]
          },
          "metadata": {
            "tags": []
          },
          "execution_count": 5
        }
      ],
      "metadata": {
        "id": "6vCTiEQTtYHO",
        "colab": {
          "base_uri": "https://localhost:8080/"
        },
        "outputId": "7bbc3e5f-fc50-4b37-d3b1-3e69ea83f877"
      }
    },
    {
      "cell_type": "markdown",
      "source": [
        "### Gaussians \n",
        "\n",
        "#### Central Limit Theorem\n",
        "\n",
        "According to this theorem, the average of n samples of random and independent variables tends to follow a normal distribution as we increase the sample size. (Generally, for n>=30)"
      ],
      "metadata": {
        "id": "4I5APg7ttYHO"
      }
    },
    {
      "cell_type": "code",
      "execution_count": 6,
      "source": [
        "import matplotlib.pyplot as plt\n",
        "import random\n",
        "a = np.zeros((100,))\n",
        "for i in range(100):\n",
        "    x = [random.uniform(1,10) for _ in range(1000)]\n",
        "    a[i] = np.sum(x,axis=0) / 1000\n",
        "plt.hist(a)\n",
        "# plt.show()"
      ],
      "outputs": [
        {
          "output_type": "execute_result",
          "data": {
            "text/plain": [
              "(array([ 5.,  4.,  6.,  9., 13., 20., 17., 14., 10.,  2.]),\n",
              " array([5.31327274, 5.34767731, 5.38208188, 5.41648645, 5.45089102,\n",
              "        5.4852956 , 5.51970017, 5.55410474, 5.58850931, 5.62291388,\n",
              "        5.65731845]),\n",
              " <a list of 10 Patch objects>)"
            ]
          },
          "metadata": {
            "tags": []
          },
          "execution_count": 6
        },
        {
          "output_type": "display_data",
          "data": {
            "text/plain": [
              "<Figure size 432x288 with 1 Axes>"
            ],
            "image/png": "[encoded data removed]"
          },
          "metadata": {
            "tags": [],
            "needs_background": "light"
          }
        }
      ],
      "metadata": {
        "id": "UDVm85zOtYHP",
        "colab": {
          "base_uri": "https://localhost:8080/",
          "height": 355
        },
        "outputId": "885830ee-8b66-4069-ed60-a7c43b93d739"
      }
    },
    {
      "cell_type": "markdown",
      "source": [
        "#### Gaussian Distribution\n",
        "A Gaussian is a *continuous probability distribution* that is completely described with two parameters, the mean ($\\mu$) and the variance ($\\sigma^2$). It is defined as:\n",
        "\n",
        "$$ \n",
        "f(x, \\mu, \\sigma) = \\frac{1}{\\sigma\\sqrt{2\\pi}} \\exp\\big [{-\\frac{(x-\\mu)^2}{2\\sigma^2} }\\big ]\n",
        "$$\n",
        "Range is $$[-\\inf,\\inf] $$\n",
        "\n",
        "\n",
        "This is just a function of mean($\\mu$) and standard deviation ($\\sigma$) and what gives the normal distribution the charecteristic **bell curve**. "
      ],
      "metadata": {
        "id": "hGjUk25GtYHP"
      }
    },
    {
      "cell_type": "code",
      "execution_count": 7,
      "source": [
        "import matplotlib.mlab as mlab\n",
        "import math\n",
        "import scipy.stats\n",
        "\n",
        "mu = 0\n",
        "variance = 5\n",
        "sigma = math.sqrt(variance)\n",
        "x = np.linspace(mu - 5*sigma, mu + 5*sigma, 100)\n",
        "plt.plot(x, scipy.stats.norm.pdf(x,mu,sigma))\n",
        "plt.show()\n"
      ],
      "outputs": [
        {
          "output_type": "display_data",
          "data": {
            "text/plain": [
              "<Figure size 432x288 with 1 Axes>"
            ],
            "image/png": "[encoded data removed]"
          },
          "metadata": {
            "tags": [],
            "needs_background": "light"
          }
        }
      ],
      "metadata": {
        "id": "o-2APJHJtYHP",
        "colab": {
          "base_uri": "https://localhost:8080/",
          "height": 265
        },
        "outputId": "42c88f6e-d31c-4cbb-c922-8415277f1360"
      }
    },
    {
      "cell_type": "markdown",
      "source": [
        "### Gaussian Properties\n",
        "\n",
        "**Multiplication**\n",
        "\n",
        "\n",
        "For the measurement update in a Bayes Filter, the algorithm tells us to multiply the Prior $P(X_t)$ and measurement $P(Z_t|X_t)$ to calculate the posterior:\n",
        "\n",
        "$$P(X \\mid Z) = \\frac{P(Z \\mid X)P(X)}{P(Z)}$$\n",
        "\n",
        "Here for the numerator,  $P(Z \\mid X),P(X)$ both are gaussian.\n",
        "\n",
        "$N(\\mu_1, \\sigma_1^2)$ and $N(\\mu_2, \\sigma_2^2)$ are their mean and variances.\n",
        "\n",
        "New mean is \n",
        "\n",
        "$$\\mu_\\mathtt{new} = \\frac{\\mu_1 \\sigma_2^2 + \\mu_2 \\sigma_1^2}{\\sigma_1^2+\\sigma_2^2}$$\n",
        "New variance is\n",
        "$$\\sigma_\\mathtt{new} = \\frac{\\sigma_1^2\\sigma_2^2}{\\sigma_1^2+\\sigma_2^2}$$"
      ],
      "metadata": {
        "id": "ZsNfuPUgtYHQ"
      }
    },
    {
      "cell_type": "code",
      "execution_count": 8,
      "source": [
        "import matplotlib.mlab as mlab\n",
        "import math\n",
        "import scipy.stats\n",
        "mu1 = 0\n",
        "variance1 = 2\n",
        "sigma = math.sqrt(variance1)\n",
        "x1 = np.linspace(mu1 - 3*sigma, mu1 + 3*sigma, 100)\n",
        "plt.plot(x1, scipy.stats.norm.pdf(x1, mu1, sigma), label='prior')\n",
        "\n",
        "mu2 = 10\n",
        "variance2 = 2\n",
        "sigma = math.sqrt(variance2)\n",
        "x2 = np.linspace(mu2 - 3*sigma, mu2 + 3*sigma, 100)\n",
        "plt.plot(x2, scipy.stats.norm.pdf(x2, mu2, sigma), \"g-\", label='measurement')\n",
        "\n",
        "mu_new = (mu1*variance2 + mu2*variance1) / (variance1 + variance2)\n",
        "print(\"New mean is at: \",mu_new)\n",
        "var_new = (variance1*variance2)/(variance1+variance2)\n",
        "print(\"New variance is: \",var_new)\n",
        "sigma = math.sqrt(var_new)\n",
        "x3 = np.linspace(mu_new - 3*sigma, mu_new + 3*sigma, 100)\n",
        "plt.plot(x3, scipy.stats.norm.pdf(x3, mu_new, var_new), label=\"posterior\")\n",
        "plt.legend(loc='upper left')\n",
        "plt.xlim(-10,20)\n",
        "plt.show()"
      ],
      "outputs": [
        {
          "output_type": "stream",
          "name": "stdout",
          "text": [
            "New mean is at:  5.0\n",
            "New variance is:  1.0\n"
          ]
        },
        {
          "output_type": "display_data",
          "data": {
            "text/plain": [
              "<Figure size 432x288 with 1 Axes>"
            ],
            "image/png": "[encoded data removed]"
          },
          "metadata": {
            "tags": [],
            "needs_background": "light"
          }
        }
      ],
      "metadata": {
        "id": "ujrSARdqtYHR",
        "colab": {
          "base_uri": "https://localhost:8080/",
          "height": 301
        },
        "outputId": "054790e9-5bc6-4f91-f313-dd564d5c40a8"
      }
    },
    {
      "cell_type": "markdown",
      "source": [
        "**Addition**\n",
        "\n",
        "The motion step involves a case of adding up probability (Since it has to abide the Law of Total Probability). This means their beliefs are to be added and hence two gaussians. They are simply arithmetic additions of the two.\n",
        "\n",
        "$$\\begin{gathered}\\mu_x = \\mu_p + \\mu_z \\\\\n",
        "\\sigma_x^2 = \\sigma_z^2+\\sigma_p^2\\, \\end{gathered}$$"
      ],
      "metadata": {
        "id": "B2fT0nm9tYHR"
      }
    },
    {
      "cell_type": "code",
      "execution_count": 9,
      "source": [
        "import matplotlib.mlab as mlab\n",
        "import math\n",
        "mu1 = 5\n",
        "variance1 = 1\n",
        "sigma = math.sqrt(variance1)\n",
        "x1 = np.linspace(mu1 - 3*sigma, mu1 + 3*sigma, 100)\n",
        "plt.plot(x1,scipy.stats.norm.pdf(x1, mu1, sigma), label='prior')\n",
        "\n",
        "mu2 = 10\n",
        "variance2 = 1\n",
        "sigma = math.sqrt(variance2)\n",
        "x2 = np.linspace(mu2 - 3*sigma, mu2 + 3*sigma, 100)\n",
        "plt.plot(x2, scipy.stats.norm.pdf(x2, mu2, sigma), \"g-\", label='measurement')\n",
        "\n",
        "mu_new = mu1 + mu2\n",
        "print(\"New mean is at: \",mu_new)\n",
        "var_new = (variance1+variance2)\n",
        "print(\"New variance is: \",var_new)\n",
        "sigma = math.sqrt(var_new)\n",
        "x3 = np.linspace(mu_new - 3*sigma, mu_new + 3*sigma, 100)\n",
        "plt.plot(x3, scipy.stats.norm.pdf(x3, mu_new, var_new),label=\"posterior\")\n",
        "plt.legend(loc='upper left')\n",
        "plt.xlim(-10, 20)\n",
        "plt.show()"
      ],
      "outputs": [
        {
          "output_type": "stream",
          "name": "stdout",
          "text": [
            "New mean is at:  15\n",
            "New variance is:  2\n"
          ]
        },
        {
          "output_type": "display_data",
          "data": {
            "text/plain": [
              "<Figure size 432x288 with 1 Axes>"
            ],
            "image/png": "[encoded data removed]"
          },
          "metadata": {
            "tags": [],
            "needs_background": "light"
          }
        }
      ],
      "metadata": {
        "id": "paEmV2j_tYHS",
        "colab": {
          "base_uri": "https://localhost:8080/",
          "height": 301
        },
        "outputId": "d0bcbb76-1219-4edc-c98e-8d274e2a76cc"
      }
    },
    {
      "cell_type": "markdown",
      "source": [
        "### 2D Gaussians\n",
        "See [bivariate Gaussian distribution](https://scipython.com/blog/visualizing-the-bivariate-gaussian-distribution/) for more details.\n"
      ],
      "metadata": {
        "id": "OqXNbrd53cyd"
      }
    },
    {
      "cell_type": "code",
      "execution_count": 10,
      "source": [
        "from scipy.stats import multivariate_normal\n",
        "x, y = np.mgrid[-5:5:.1, -5:5:.1]\n",
        "pos = np.empty(x.shape + (2,))\n",
        "pos[:, :, 0] = x\n",
        "pos[:, :, 1] = y\n",
        "rv = multivariate_normal([0.5, -0.2], [[2.0, 0.9], \n",
        "                      [0.9, 0.5]])\n",
        "plt.contourf(x, y, rv.pdf(pos))\n",
        "plt.show()"
      ],
      "outputs": [
        {
          "output_type": "display_data",
          "data": {
            "text/plain": [
              "<Figure size 432x288 with 1 Axes>"
            ],
            "image/png": "[encoded data removed]"
          },
          "metadata": {
            "tags": [],
            "needs_background": "light"
          }
        }
      ],
      "metadata": {
        "id": "mzlMNtgStYHV",
        "colab": {
          "base_uri": "https://localhost:8080/",
          "height": 265
        },
        "outputId": "cf7f488e-7ea8-4d46-fd61-e166f160d6c4"
      }
    }
  ]
}
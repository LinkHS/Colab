{
  "nbformat": 4,
  "nbformat_minor": 2,
  "metadata": {
    "kernelspec": {
      "display_name": "Python 3",
      "language": "python",
      "name": "python3"
    },
    "language_info": {
      "codemirror_mode": {
        "name": "ipython",
        "version": 3
      },
      "file_extension": ".py",
      "mimetype": "text/x-python",
      "name": "python",
      "nbconvert_exporter": "python",
      "pygments_lexer": "ipython3",
      "version": "3.6.8"
    },
    "colab": {
      "name": "extended_kalman_filter_localization.ipynb",
      "provenance": [],
      "collapsed_sections": [],
      "toc_visible": true
    }
  },
  "cells": [
    {
      "cell_type": "markdown",
      "source": [
        "# Extended Kalman Filter Localization"
      ],
      "metadata": {
        "id": "XD4sKtYm7LeN"
      }
    },
    {
      "cell_type": "code",
      "execution_count": 1,
      "source": [
        "import numpy as np\n",
        "import math\n",
        "import matplotlib.pyplot as plt\n",
        "from scipy.spatial.transform import Rotation as Rot\n",
        "\n",
        "Q = np.diag([\n",
        "  0.1,  # variance of location on x-axis\n",
        "  0.1,  # variance of location on y-axis\n",
        "  np.deg2rad(1.0),  # variance of yaw angle\n",
        "  1.0  # variance of velocity\n",
        "]) ** 2  # predict state covariance\n",
        "\n",
        "R = np.diag([1.0, 1.0]) ** 2  # Observation x,y position covariance\n",
        "\n",
        "DT = 0.1  # time tick [s]\n",
        "SIM_TIME = 50.0  # simulation time [s]\n",
        "\n",
        "show_animation = True"
      ],
      "outputs": [],
      "metadata": {
        "id": "iUAXhaB-7LeP"
      }
    },
    {
      "cell_type": "markdown",
      "source": [
        "## Filter design\n",
        "\n",
        "In this simulation, the robot has a state vector includes 4 states at time $t$.\n",
        "\n",
        "$$\\textbf{x}_t=[x_t, y_t, \\phi_t, v_t]$$\n",
        "\n",
        "x, y are a 2D x-y position, $\\phi$ is orientation, and v is velocity.\n",
        "\n",
        "In the code, \"xEst\" means the state vector. [code](https://github.com/AtsushiSakai/PythonRobotics/blob/916b4382de090de29f54538b356cef1c811aacce/Localization/extended_kalman_filter/extended_kalman_filter.py#L168)\n",
        "\n",
        "And, $P_t$ is covariace matrix of the state,\n",
        "\n",
        "$Q$ is covariance matrix of process noise, \n",
        "\n",
        "$R$ is covariance matrix of observation noise at time $t$ \n"
      ],
      "metadata": {
        "id": "Z5_-SMZA7LeR"
      }
    },
    {
      "cell_type": "code",
      "execution_count": 3,
      "source": [
        "x_state = np.array([0, 0, np.deg2rad(0), 2]).reshape(4,-1)\n",
        "x_state"
      ],
      "outputs": [
        {
          "output_type": "execute_result",
          "data": {
            "text/plain": [
              "array([[0.],\n",
              "       [0.],\n",
              "       [0.],\n",
              "       [2.]])"
            ]
          },
          "metadata": {
            "tags": []
          },
          "execution_count": 3
        }
      ],
      "metadata": {
        "colab": {
          "base_uri": "https://localhost:8080/"
        },
        "id": "rR7fOpxVEDF8",
        "outputId": "7b6b7cbb-4074-40fb-fd00-8c7fd04d8747"
      }
    },
    {
      "cell_type": "markdown",
      "source": [
        "The robot has a speed sensor and a gyro sensor.\n",
        "\n",
        "So, the input vecor can be used as each time step\n",
        "\n",
        "$$\\textbf{u}_t=[v_t, \\omega_t]$$\n",
        "\n",
        "Also, the robot has a GNSS sensor, it means that the robot can observe x-y position at each time.\n",
        "\n",
        "$$\\textbf{z}_t=[x_t,y_t]$$\n",
        "\n",
        "The input and observation vector includes sensor noise."
      ],
      "metadata": {
        "id": "MD23B8ghE2ue"
      }
    },
    {
      "cell_type": "code",
      "execution_count": 4,
      "source": [
        "def calc_input():\n",
        "    v = 1.0  # [m/s]\n",
        "    yawrate = 0.1  # [rad/s]\n",
        "    u = np.array([[v], [yawrate]])\n",
        "    return u\n",
        "\n",
        "u = calc_input()\n",
        "u"
      ],
      "outputs": [
        {
          "output_type": "execute_result",
          "data": {
            "text/plain": [
              "array([[1. ],\n",
              "       [0.1]])"
            ]
          },
          "metadata": {
            "tags": []
          },
          "execution_count": 4
        }
      ],
      "metadata": {
        "colab": {
          "base_uri": "https://localhost:8080/"
        },
        "id": "Wdj-OBcYCZtE",
        "outputId": "f70282a6-e4d6-41e7-ad03-f0d848d046eb"
      }
    },
    {
      "cell_type": "markdown",
      "source": [
        "### Motion Model\n",
        "The robot model is \n",
        "\n",
        "$$ \\dot{x} = vcos(\\phi)$$\n",
        "\n",
        "$$ \\dot{y} = vsin((\\phi)$$\n",
        "\n",
        "$$ \\dot{\\phi} = \\omega$$\n",
        "\n",
        "Given that   \n",
        "$\\textbf{x}_t = [x_t, y_t, \\phi_t, v_t]$  \n",
        "\n",
        "$\\textbf{x}_{t+1}$  \n",
        "$x_{t+1} = x_t + \\dot{x}\\Delta t$  \n",
        "$y_{t+1} = y_t + \\dot{y}\\Delta t$  \n",
        "$\\phi_{t+1} = \\phi_t + \\dot{\\phi}\\Delta t$  \n",
        "$v_{t+1} = 0 + v_{t+1}$\n",
        "\n",
        "\n",
        "$\\textbf{u}_t = [v_t, \\dot{\\phi}]$\n",
        "\n",
        "So, the motion model is\n",
        "\n",
        "$$\\textbf{x}_{t+1} = F\\textbf{x}_t+B\\textbf{u}_t$$\n",
        "\n",
        "where\n",
        "\n",
        "$\\begin{equation*}\n",
        "F=\n",
        "\\begin{bmatrix}\n",
        "1 & 0 & 0 & 0\\\\\n",
        "0 & 1 & 0 & 0\\\\\n",
        "0 & 0 & 1 & 0 \\\\\n",
        "0 & 0 & 0 & 0 \\\\\n",
        "\\end{bmatrix}\n",
        "\\end{equation*}$\n",
        "\n",
        "$\\begin{equation*}\n",
        "B=\n",
        "\\begin{bmatrix}\n",
        "cos(\\phi)\\Delta t & 0\\\\\n",
        "sin(\\phi)\\Delta t & 0\\\\\n",
        "0 & \\Delta t\\\\\n",
        "1 & 0\\\\\n",
        "\\end{bmatrix}\n",
        "\\end{equation*}$\n",
        "\n"
      ],
      "metadata": {
        "id": "my5DjhBf7LeS"
      }
    },
    {
      "cell_type": "code",
      "execution_count": 5,
      "source": [
        "def motion_model(x, u, dt):\n",
        "  F = np.array([[1.0, 0,  0,  0],\n",
        "          [0,  1.0, 0,  0],\n",
        "          [0,  0,  1.0, 0],\n",
        "          [0,  0,  0,  0]])\n",
        "  B = np.array([[dt * math.cos(x[2, 0]), 0 ],\n",
        "          [dt * math.sin(x[2, 0]), 0 ],\n",
        "          [0.0,            dt ],\n",
        "          [1.0,            0.0]])\n",
        "  x = F@x + B@u\n",
        "  return x\n",
        "\n",
        "# x = 0 + v_u*cos(0)*dt = 0.1\n",
        "# y = 0 + v_u*sin(0)*dt = 0\n",
        "# yaw = v_yaw * dt = 0.01\n",
        "# v = v_u = 1\n",
        "motion_model(x_state, u, DT)"
      ],
      "outputs": [
        {
          "output_type": "execute_result",
          "data": {
            "text/plain": [
              "array([[0.1 ],\n",
              "       [0.  ],\n",
              "       [0.01],\n",
              "       [1.  ]])"
            ]
          },
          "metadata": {
            "tags": []
          },
          "execution_count": 5
        }
      ],
      "metadata": {
        "colab": {
          "base_uri": "https://localhost:8080/"
        },
        "id": "buNahHP4CqWC",
        "outputId": "26973400-d1b7-4e68-e7d8-578f5c5d0862"
      }
    },
    {
      "cell_type": "markdown",
      "source": [
        "Its Jacobian matrix is\n",
        "\n",
        "$\\begin{equation*}\n",
        "J_F=\n",
        "\\begin{bmatrix}\n",
        "\\frac{dx}{dx}& \\frac{dx}{dy} & \\frac{dx}{d\\phi} &  \\frac{dx}{dv}\\\\\n",
        "\\frac{dy}{dx}& \\frac{dy}{dy} & \\frac{dy}{d\\phi} &  \\frac{dy}{dv}\\\\\n",
        "\\frac{d\\phi}{dx}& \\frac{d\\phi}{dy} & \\frac{d\\phi}{d\\phi} &  \\frac{d\\phi}{dv}\\\\\n",
        "\\frac{dv}{dx}& \\frac{dv}{dy} & \\frac{dv}{d\\phi} &  \\frac{dv}{dv}\\\\\n",
        "\\end{bmatrix}\n",
        "\\end{equation*}$\n",
        "\n",
        "$\\begin{equation*}\n",
        "　=\n",
        "\\begin{bmatrix}\n",
        "1& 0 & -v sin(\\phi)dt &  cos(\\phi)dt\\\\\n",
        "0 & 1 & v cos(\\phi)dt & sin(\\phi) dt\\\\\n",
        "0 & 0 & 1 & 0\\\\\n",
        "0 & 0 & 0 & 1\\\\\n",
        "\\end{bmatrix}\n",
        "\\end{equation*}$"
      ],
      "metadata": {
        "id": "MFnxQh5-Dhuv"
      }
    },
    {
      "cell_type": "code",
      "execution_count": 6,
      "source": [
        "def jacob_f(x, u, DT):\n",
        "  \"\"\"\n",
        "  Jacobian of Motion Model motion model\n",
        "  \"\"\"\n",
        "  yaw = x[2, 0]\n",
        "  v = u[0, 0]\n",
        "  jF = np.array([\n",
        "      [1.0, 0.0, -DT*v*math.sin(yaw), DT*math.cos(yaw)],\n",
        "      [0.0, 1.0, DT*v*math.cos(yaw), DT*math.sin(yaw)],\n",
        "      [0.0, 0.0, 1.0, 0.0],\n",
        "      [0.0, 0.0, 0.0, 1.0]])\n",
        "\n",
        "  return jF"
      ],
      "outputs": [],
      "metadata": {
        "id": "4Jxwj9E_MxYc"
      }
    },
    {
      "cell_type": "markdown",
      "source": [
        "### Observation Model\n",
        "\n",
        "The robot can get x-y position infomation from GPS.\n",
        "\n",
        "Given that   \n",
        "$\\textbf{x}_t = [x_t, y_t, \\phi_t, v_t]$  \n",
        "$\\textbf{z}_t=[x_t,y_t]$\n",
        "\n",
        "So GPS Observation model is\n",
        "\n",
        "$$\\textbf{z}_{t} = H\\textbf{x}_t$$\n",
        "\n",
        "where\n",
        "\n",
        "$\\begin{equation*}\n",
        "H=\n",
        "\\begin{bmatrix}\n",
        "1 & 0 & 0& 0\\\\\n",
        "0 & 1 & 0& 0\\\\\n",
        "\\end{bmatrix}\n",
        "\\end{equation*}$\n",
        "\n",
        "Its Jacobian matrix is\n",
        "\n",
        "$\\begin{equation*}\n",
        "J_H=\n",
        "\\begin{bmatrix}\n",
        "\\frac{dx}{dx}& \\frac{dx}{dy} & \\frac{dx}{d\\phi} &  \\frac{dx}{dv}\\\\\n",
        "\\frac{dy}{dx}& \\frac{dy}{dy} & \\frac{dy}{d\\phi} &  \\frac{dy}{dv}\\\\\n",
        "\\end{bmatrix}\n",
        "\\end{equation*}$\n",
        "\n",
        "$\\begin{equation*}\n",
        "　=\n",
        "\\begin{bmatrix}\n",
        "1& 0 & 0 & 0\\\\\n",
        "0 & 1 & 0 & 0\\\\\n",
        "\\end{bmatrix}\n",
        "\\end{equation*}$\n",
        "\n"
      ],
      "metadata": {
        "id": "RpKpu1Hb7LeT"
      }
    },
    {
      "cell_type": "code",
      "execution_count": 7,
      "source": [
        "def observation_model(x):\n",
        "  H = np.array([[1, 0, 0, 0],\n",
        "          [0, 1, 0, 0]])\n",
        "  z = H @ x\n",
        "  return z\n",
        "\n",
        "def jacob_h():\n",
        "  # Jacobian of Observation Model\n",
        "  jH = np.array([[1, 0, 0, 0],\n",
        "           [0, 1, 0, 0]])\n",
        "  return jH"
      ],
      "outputs": [],
      "metadata": {
        "id": "xqqC_scHN2XR"
      }
    },
    {
      "cell_type": "markdown",
      "source": [
        "### Extented Kalman Filter\n",
        "\n",
        "Localization process using Extendted Kalman Filter:EKF is\n",
        "\n",
        "=== Predict ===\n",
        "\n",
        "$x_{Pred} = Fx_t+Bu_t$\n",
        "\n",
        "$P_{Pred} = J_FP_t J_F^T + Q$\n",
        "\n",
        "=== Update ===\n",
        "\n",
        "$z_{Pred} = Hx_{Pred}$ \n",
        "\n",
        "$y = z - z_{Pred}$\n",
        "\n",
        "$S = J_H P_{Pred}.J_H^T + R$\n",
        "\n",
        "$K = P_{Pred}.J_H^T S^{-1}$\n",
        "\n",
        "$x_{t+1} = x_{Pred} + Ky$\n",
        "\n",
        "$P_{t+1} = ( I - K J_H) P_{Pred}$\n",
        "\n"
      ],
      "metadata": {
        "id": "HHJ9tDUo7LeU"
      }
    },
    {
      "cell_type": "code",
      "execution_count": 8,
      "source": [
        "def ekf_estimation(xEst, PEst, z, u, dt):\n",
        "  # Predict\n",
        "  xPred = motion_model(xEst, u, dt)\n",
        "  jF = jacob_f(xEst, u, dt)\n",
        "  PPred = jF @ PEst @ jF.T + Q\n",
        "\n",
        "  # Update\n",
        "  jH = jacob_h()\n",
        "  zPred = observation_model(xPred)\n",
        "  y = z - zPred\n",
        "  S = jH @ PPred @ jH.T + R\n",
        "  K = PPred @ jH.T @ np.linalg.inv(S)\n",
        "  xEst = xPred + K @ y\n",
        "  PEst = (np.eye(len(xEst)) - K @ jH) @ PPred\n",
        "  return xEst, PEst\n",
        "\n",
        "xEst = np.zeros((4, 1)) # State Vector [x y yaw v]\n",
        "PEst = np.eye(4) # Covariace matrix of the state\n",
        "z = observation_model(xEst)\n",
        "dt = 0.1  # time tick [s]\n",
        "u = calc_input()\n",
        "ekf_estimation(xEst, PEst, z, u, dt)"
      ],
      "outputs": [
        {
          "output_type": "execute_result",
          "data": {
            "text/plain": [
              "(array([[0.04950495],\n",
              "        [0.        ],\n",
              "        [0.01      ],\n",
              "        [0.9950495 ]]),\n",
              " array([[0.5049505 , 0.        , 0.        , 0.04950495],\n",
              "        [0.        , 0.5049505 , 0.04950495, 0.        ],\n",
              "        [0.        , 0.04950495, 0.99535412, 0.        ],\n",
              "        [0.04950495, 0.        , 0.        , 1.9950495 ]]))"
            ]
          },
          "metadata": {
            "tags": []
          },
          "execution_count": 8
        }
      ],
      "metadata": {
        "colab": {
          "base_uri": "https://localhost:8080/"
        },
        "id": "JetYANSlSrmy",
        "outputId": "25db2129-e257-407b-9822-361e8fc3303a"
      }
    },
    {
      "cell_type": "code",
      "execution_count": 9,
      "source": [
        "# Simulation parameter\n",
        "INPUT_NOISE = np.diag([1.0, np.deg2rad(30.0)]) ** 2\n",
        "GPS_NOISE = np.diag([0.5, 0.5]) ** 2\n",
        "\n",
        "def observation(xTrue, u, dt):\n",
        "  xTrue = motion_model(xTrue, u, dt)\n",
        "  \n",
        "  # add noise to gps x-y\n",
        "  z = observation_model(xTrue) + GPS_NOISE @ np.random.randn(2, 1)\n",
        " \n",
        "  # add noise to input\n",
        "  ud = u + INPUT_NOISE @ np.random.randn(2, 1)\n",
        "  return xTrue, z, ud\n",
        "\n",
        "\n",
        "xs_init = np.zeros((4,1))\n",
        "u = calc_input()\n",
        "xTrue, z, ud = observation(xs_init, u, dt=1)\n",
        "xRaw = motion_model(xs_init, ud, dt=1)\n",
        "\n",
        "print(xTrue)\n",
        "print(xRaw)\n",
        "print(z)\n",
        "print(ud)"
      ],
      "outputs": [
        {
          "output_type": "stream",
          "name": "stdout",
          "text": [
            "[[1. ]\n",
            " [0. ]\n",
            " [0.1]\n",
            " [1. ]]\n",
            "[[2.31589188]\n",
            " [0.        ]\n",
            " [0.18290528]\n",
            " [2.31589188]]\n",
            "[[1.46433487]\n",
            " [0.22398672]]\n",
            "[[2.31589188]\n",
            " [0.18290528]]\n"
          ]
        }
      ],
      "metadata": {
        "colab": {
          "base_uri": "https://localhost:8080/"
        },
        "id": "4TxTtLCmV-JQ",
        "outputId": "92307bde-4b4e-40b1-e87e-417836c05723"
      }
    },
    {
      "cell_type": "code",
      "execution_count": 10,
      "source": [
        "def plot_covariance_ellipse(xEst, PEst):\n",
        "  Pxy = PEst[0:2, 0:2]\n",
        "  eigval, eigvec = np.linalg.eig(Pxy)\n",
        "\n",
        "  if eigval[0] >= eigval[1]:\n",
        "    bigind = 0\n",
        "    smallind = 1\n",
        "  else:\n",
        "    bigind = 1\n",
        "    smallind = 0\n",
        "\n",
        "  t = np.arange(0, 2*math.pi + 0.1, 0.1)\n",
        "  a = math.sqrt(eigval[bigind])\n",
        "  b = math.sqrt(eigval[smallind])\n",
        "  x = [a * math.cos(it) for it in t]\n",
        "  y = [b * math.sin(it) for it in t]\n",
        "  angle = math.atan2(eigvec[1,bigind], eigvec[0,bigind])\n",
        "  rot = Rot.from_euler('z', angle).as_matrix()[0:2, 0:2]\n",
        "  fx = rot @ (np.array([x,y]))\n",
        "  px = np.array(fx[0,:] + xEst[0,0]).flatten()\n",
        "  py = np.array(fx[1,:] + xEst[1,0]).flatten()\n",
        "  plt.plot(px, py, \"--r\")\n"
      ],
      "outputs": [],
      "metadata": {
        "id": "-5iMsjove6eD"
      }
    },
    {
      "cell_type": "markdown",
      "source": [
        "This is a sensor fusion localization with Extended Kalman Filter(EKF).\n",
        "\n",
        "The blue line is true trajectory, the black line is dead reckoning\n",
        "trajectory,\n",
        "\n",
        "the green point is positioning observation (ex. GPS), and the red line\n",
        "is estimated trajectory with EKF.\n",
        "\n",
        "The red ellipse is estimated covariance ellipse with EKF."
      ],
      "metadata": {
        "id": "C1r6q9WstxkN"
      }
    },
    {
      "cell_type": "code",
      "execution_count": 11,
      "source": [
        "from IPython import display\n",
        "\n",
        "time = 0.0\n",
        "\n",
        "# State Vector [x y yaw v]'\n",
        "xEst = np.zeros((4, 1))\n",
        "xTrue = np.zeros((4, 1))\n",
        "PEst = np.eye(4)\n",
        "\n",
        "xDR = np.zeros((4, 1))  # Dead reckoning\n",
        "\n",
        "# history\n",
        "hxEst = xEst\n",
        "hxTrue = xTrue\n",
        "hxDR = xTrue\n",
        "hz = np.zeros((2, 1))\n",
        "\n",
        "fig = plt.figure()\n",
        "plt.axis(\"equal\")\n",
        "plt.grid(True)\n",
        "while SIM_TIME >= time:\n",
        "  time += DT\n",
        "  u = calc_input()\n",
        "\n",
        "  xTrue, z, ud = observation(xTrue, u, DT)\n",
        "  xDR = motion_model(xDR, ud, dt=DT) # Only compute with ud\n",
        "  xEst, PEst = ekf_estimation(xEst, PEst, z, ud, dt=DT)\n",
        "\n",
        "  # store data history\n",
        "  hxEst = np.hstack((hxEst, xEst))\n",
        "  hxDR = np.hstack((hxDR, xDR))\n",
        "  hxTrue = np.hstack((hxTrue, xTrue))\n",
        "  hz = np.hstack((hz, z))\n",
        "\n",
        "  if show_animation:\n",
        "    plt.cla()\n",
        "    # # for stopping simulation with the esc key.\n",
        "    # plt.gcf().canvas.mpl_connect('key_release_event',\n",
        "    #     lambda event: [exit(0) if event.key == 'escape' else None])\n",
        "    plt.plot(hz[0,:], hz[1,:], \".g\")\n",
        "    plt.plot(hxTrue[0,:].flatten(),\n",
        "         hxTrue[1,:].flatten(), \"-b\")\n",
        "    plt.plot(hxDR[0,:].flatten(),\n",
        "         hxDR[1,:].flatten(), \"-k\")\n",
        "    plt.plot(hxEst[0,:].flatten(),\n",
        "         hxEst[1,:].flatten(), \"-r\")\n",
        "    plot_covariance_ellipse(xEst, PEst)\n",
        "\n",
        "    display.display(fig)\n",
        "    display.clear_output(wait=True)\n"
      ],
      "outputs": [
        {
          "output_type": "display_data",
          "data": {
            "text/plain": [
              "<Figure size 432x288 with 1 Axes>"
            ],
            "image/png": "[encoded data removed]"
          },
          "metadata": {
            "tags": [],
            "needs_background": "light"
          }
        }
      ],
      "metadata": {
        "colab": {
          "base_uri": "https://localhost:8080/",
          "height": 265
        },
        "id": "SpoRoIYLhqUW",
        "outputId": "8687bda7-9cad-446e-cfbc-4a3b7e6078f3"
      }
    }
  ]
}
{
  "nbformat": 4,
  "nbformat_minor": 2,
  "metadata": {
    "colab": {
      "name": "Lidar with rotation.ipynb",
      "provenance": [],
      "collapsed_sections": [],
      "toc_visible": true,
      "authorship_tag": "ABX9TyMgm5aMknFHctlQYjHES7pp",
      "include_colab_link": true
    },
    "kernelspec": {
      "name": "python3",
      "display_name": "Python 3"
    },
    "language_info": {
      "name": "python"
    }
  },
  "cells": [
    {
      "cell_type": "markdown",
      "source": [
        "# Lidar with Rotation\n",
        "\n",
        "<a href=\"https://colab.research.google.com/github/LinkHS/Colab/blob/main/IMU/Lidar_with_rotation.ipynb\" target=\"_parent\"><img src=\"https://colab.research.google.com/assets/colab-badge.svg\" alt=\"Open In Colab\"/></a>"
      ],
      "metadata": {
        "id": "view-in-github",
        "colab_type": "text"
      }
    },
    {
      "cell_type": "code",
      "execution_count": 1,
      "source": [
        "import numpy as np\n",
        "from scipy.spatial.transform import Rotation as sciR"
      ],
      "outputs": [],
      "metadata": {
        "id": "LPtr4qky_Dmx"
      }
    },
    {
      "cell_type": "markdown",
      "source": [
        "## 基本知识"
      ],
      "metadata": {
        "id": "gzYbKzTNrdP1"
      }
    },
    {
      "cell_type": "markdown",
      "source": [
        "### 线速度\n",
        "$\\omega$为角速度（三维向量），$r$为旋转半径（三维向量），那么线速度为：\n",
        "\n",
        "$$\n",
        "\\dot{r} = \\omega \\times r\n",
        "$$\n",
        "\n",
        "E.g.，假设IMU围绕x轴旋转，如果某点位于x轴上，此时该点旋转半径r和x轴重合，其线速度为0："
      ],
      "metadata": {
        "id": "dzdsVSpH_zuW"
      }
    },
    {
      "cell_type": "markdown",
      "source": [
        "![](https://images-picgo.oss-cn-shanghai.aliyuncs.com/images/Colab/20210812154247.png)"
      ],
      "metadata": {
        "id": "_4ZCJFUvBzlq"
      }
    },
    {
      "cell_type": "code",
      "execution_count": 2,
      "source": [
        "r = [1, 0, 0]\n",
        "w = [2, 0, 0] # 逆时针为正，右手法则\n",
        "\n",
        "np.cross(w, r)"
      ],
      "outputs": [
        {
          "output_type": "execute_result",
          "data": {
            "text/plain": [
              "array([0, 0, 0])"
            ]
          },
          "metadata": {
            "tags": []
          },
          "execution_count": 2
        }
      ],
      "metadata": {
        "colab": {
          "base_uri": "https://localhost:8080/"
        },
        "id": "yGmfQZU6_zJZ",
        "outputId": "84d1e7af-391a-4bfe-f59e-8ed8c294866e"
      }
    },
    {
      "cell_type": "markdown",
      "source": [
        "若某物体在该点$(1, 0, 0)$的姿态和IMU姿态一致（即$R$为单位阵），其角速度应该等于IMU角速度：\n",
        "\n",
        "$$\n",
        "\\omega' = R \\omega\n",
        "$$"
      ],
      "metadata": {
        "id": "gdB_4cTbD2wT"
      }
    },
    {
      "cell_type": "code",
      "execution_count": 3,
      "source": [
        "R = np.eye(3, 3)\n",
        "R @ w"
      ],
      "outputs": [
        {
          "output_type": "execute_result",
          "data": {
            "text/plain": [
              "array([2., 0., 0.])"
            ]
          },
          "metadata": {
            "tags": []
          },
          "execution_count": 3
        }
      ],
      "metadata": {
        "colab": {
          "base_uri": "https://localhost:8080/"
        },
        "id": "d-r9POqlE2xn",
        "outputId": "0b469b38-5b4d-46d9-f091-4702680c55a6"
      }
    },
    {
      "cell_type": "markdown",
      "source": [
        "E.g.，假设IMU围绕y轴逆时针旋转，如果某点位于x轴上，其线速度方向应该为z轴的负方向："
      ],
      "metadata": {
        "id": "YiXIEGrsFm7p"
      }
    },
    {
      "cell_type": "markdown",
      "source": [
        "![](https://images-picgo.oss-cn-shanghai.aliyuncs.com/images/Colab/20210812154709.png)"
      ],
      "metadata": {
        "id": "L2xAkvotGGxt"
      }
    },
    {
      "cell_type": "code",
      "execution_count": 4,
      "source": [
        "r = [1, 0, 0]\n",
        "w = [0, 2, 0]\n",
        "\n",
        "np.cross(w, r)"
      ],
      "outputs": [
        {
          "output_type": "execute_result",
          "data": {
            "text/plain": [
              "array([ 0,  0, -2])"
            ]
          },
          "metadata": {
            "tags": []
          },
          "execution_count": 4
        }
      ],
      "metadata": {
        "colab": {
          "base_uri": "https://localhost:8080/"
        },
        "id": "YNgnH6tqFXA4",
        "outputId": "ba5afb22-7e5b-4c13-e7f9-d691b2935979"
      }
    },
    {
      "cell_type": "markdown",
      "source": [
        "## 角速度和自身坐标系关系\n",
        "角速度的积分得到的旋转向量$\\phi=\\boldsymbol{\\omega}_{k-1}\\left(t_{k}-t_{k-1}\\right)$为$t_k$变换到$t_{k-1}$下的变换，而不需要求逆！因为此时是坐标系变换，等于参考向量被反向旋转。\n",
        "\n",
        "例如IMU（坐标系）围绕自身x轴转90度（新x轴不变，新y轴为原来z轴，新z轴为原来-y轴），那么原来坐标系中的向量$[0, 1, 0]$在新的坐标系下表示为$[0, 0, -1]$，对$[0, 0, -1]$做变换看是否等于原向量$[0, 1, 0]$："
      ],
      "metadata": {
        "id": "gZhThuV3FYMq"
      }
    },
    {
      "cell_type": "code",
      "execution_count": 5,
      "source": [
        "from scipy.spatial.transform import Rotation as sciR\n",
        "R = sciR.from_rotvec(np.pi/2 * np.array([1, 0, 0]))\n",
        "\n",
        "R.apply([0, 0, -1]).round()"
      ],
      "outputs": [
        {
          "output_type": "execute_result",
          "data": {
            "text/plain": [
              "array([ 0.,  1., -0.])"
            ]
          },
          "metadata": {
            "tags": []
          },
          "execution_count": 5
        }
      ],
      "metadata": {
        "colab": {
          "base_uri": "https://localhost:8080/"
        },
        "id": "xG40dvgkSri_",
        "outputId": "7691f888-8705-4bd5-fb84-6f7c6f846ba1"
      }
    },
    {
      "cell_type": "markdown",
      "source": [
        "## 汽车拐弯模拟\n",
        "\n",
        "假设汽车以$10 \\text{m/s}$速度和$30^\\circ \\text{/s}$角速度拐弯："
      ],
      "metadata": {
        "id": "IVQaseARuPAI"
      }
    },
    {
      "cell_type": "code",
      "execution_count": 6,
      "source": [
        "import matplotlib.pyplot as plt\n",
        "\n",
        "w = np.array([0., 0., np.deg2rad(30)]) # 角速度\n",
        "v = np.array([0., 10.0, 0.]) # 线速度 m/s\n",
        "p = np.array([0., 0., 0.]) # 位置\n",
        "dt = 0.01 # second\n",
        "\n",
        "p_hst = [] # history of position\n",
        "for i in range(300):\n",
        "  R = sciR.from_rotvec(i*w*dt)\n",
        "  p = p + R.inv().apply(v) * dt\n",
        "  p_hst.append(p)\n",
        "p_hst = np.array(p_hst)\n",
        "\n",
        "\n",
        "plt.plot(p_hst[:, 0], p_hst[:, 1])\n",
        "plt.xlim(0, 30)\n",
        "plt.ylim(0, 30)\n",
        "plt.show()"
      ],
      "outputs": [
        {
          "output_type": "display_data",
          "data": {
            "text/plain": [
              "<Figure size 432x288 with 1 Axes>"
            ],
            "image/png": "[encoded data removed]"
          },
          "metadata": {
            "tags": [],
            "needs_background": "light"
          }
        }
      ],
      "metadata": {
        "colab": {
          "base_uri": "https://localhost:8080/",
          "height": 269
        },
        "id": "61saRhmwt4tZ",
        "outputId": "5ef386c8-30c5-4e88-b05f-8c926f4ba1f4"
      }
    },
    {
      "cell_type": "markdown",
      "source": [
        "上面求当前旋转矩阵时是先求出相对$t_0$时刻转过的角度（$w_1 \\cdot \\Delta t_1 + w_2 \\cdot \\Delta t_2 +\\ ......$），代码里假设了角速度和时间间隔不变：\n",
        "\n",
        "`R = sciR.from_rotvec(i*w*dt)`\n",
        "\n",
        "实际使用时应该采用积分形式，例如下面是旋转矩阵积分：\n",
        "\n",
        "$$\n",
        "R_t = R_{t-1} e^{\\phi_\\times}\n",
        "$$\n",
        "\n",
        "对应代码`R = R * sciR.from_rotvec(w*dt)`。"
      ],
      "metadata": {
        "id": "nXUwVKRX8MAV"
      }
    },
    {
      "cell_type": "code",
      "execution_count": 7,
      "source": [
        "import matplotlib.pyplot as plt\n",
        "\n",
        "w = np.array([0., 0., np.deg2rad(30)]) # 角速度\n",
        "v = np.array([0., 10.0, 0.]) # 线速度 m/s\n",
        "p = np.array([0., 0., 0.]) # 位置\n",
        "dt = 0.01 # second\n",
        "\n",
        "R = sciR.from_rotvec([0., 0., 0.])\n",
        "\n",
        "p_hst = [] # history of position\n",
        "for i in range(300):\n",
        "  R = R * sciR.from_rotvec(w*dt)\n",
        "  p = p + R.inv().apply(v) * dt\n",
        "  p_hst.append(p)\n",
        "p_hst = np.array(p_hst)\n",
        "\n",
        "\n",
        "plt.plot(p_hst[:, 0], p_hst[:, 1])\n",
        "plt.xlim(0, 30)\n",
        "plt.ylim(0, 30)\n",
        "plt.show()"
      ],
      "outputs": [
        {
          "output_type": "display_data",
          "data": {
            "text/plain": [
              "<Figure size 432x288 with 1 Axes>"
            ],
            "image/png": "[encoded data removed]"
          },
          "metadata": {
            "tags": [],
            "needs_background": "light"
          }
        }
      ],
      "metadata": {
        "colab": {
          "base_uri": "https://localhost:8080/",
          "height": 269
        },
        "id": "tzJkV2jw6jvK",
        "outputId": "4b8fcc78-66a2-4df3-ad8b-f308faefe24c"
      }
    },
    {
      "cell_type": "markdown",
      "source": [
        "## 4D雷达"
      ],
      "metadata": {
        "id": "wlHfIznFrinM"
      }
    },
    {
      "cell_type": "markdown",
      "source": [
        "### 雷达转动和位移的影响\n",
        "Aqronos雷达扫描方式是4微秒一个点，所以点云是在时序上扫描得到的，对应一组连续的雷达坐标系。\n",
        "\n",
        "![](https://images-picgo.oss-cn-shanghai.aliyuncs.com/images/Colab/20210812160250.png)\n",
        "\n",
        "计算一个刚体的运动速度需要利用该刚体上多点的位置和速度信息，因此需要把所有的点转换到同一个坐标系中表示，这样各点的相对位置才准确。\n",
        "\n",
        "![](https://images-picgo.oss-cn-shanghai.aliyuncs.com/images/Colab/20210812160339.png)"
      ],
      "metadata": {
        "id": "ssG0toiWHD4q"
      }
    },
    {
      "cell_type": "markdown",
      "source": [
        "设三维空间中一个目标点在$t_1$时刻雷达坐标系下为$\\vec{p}_1$，将该点转换到$t_0$时刻雷达坐标系下为：\n",
        "\n",
        "$$\n",
        "\\vec{p}_0 = R_1\\vec{p}_1 + \\vec{l}\n",
        "$$\n",
        "\n",
        "其中$R_1$为雷达坐标系$t_1$时刻相对$t_0$时刻的姿态，$l$为雷达位移。两边同时对求导可得：\n",
        "\n",
        "$$\\vec{v}_0 = \\dot{R}_1\\vec{p}_1 + R_1\\vec{v}_1 + \\vec{v}_l$$\n",
        "\n",
        "其中$\\dot{R} = R \\omega_{\\times},\\ (\\omega \\times \\vec{a} = \\omega_{\\times}a)$。\n",
        "\n",
        "由于雷达测量点的速度$v'_1$为该点相对雷达的速度在雷达发射方向上的投影$v'_1 = \\vec{p}_1 \\cdot \\vec{v}_1$，带入上面公式可得：\n",
        "\n",
        "$$\\vec{p}_1 R_1^T \\vec{v}_0 = (\\omega \\times \\vec{p}_1) \\cdot \\vec{p}_1 + v'_1 + (R_1^T\\vec{v}_l) \\cdot \\vec{p}_1$$\n",
        "\n",
        "由于$(\\omega \\times \\vec{p}_1) \\cdot \\vec{p}_1 = 0$，而$(R_1^T\\vec{v}_l) \\cdot \\vec{p}_1$相当于汽车速度在雷达发射方向上的投影，移项得到：\n",
        "\n",
        "$$\n",
        "(\\vec{p}_1 R_1^T) \\cdot (\\vec{v}_0 - \\vec{v}_l) = v'_1 \n",
        "$$\n",
        "\n",
        "同理可得其他点，并组成$Ax = B$的形式（这里假设雷达速度$\\vec{v}_l$不发生变化）：\n",
        "\n",
        "$$\n",
        "\\begin{bmatrix}\n",
        "\\vec{p}_1 R_1^T \\\\\n",
        "\\vec{p}_2 R_2^T \\\\\n",
        "\\vdots \\\\\n",
        "\\vec{p}_n R_n^T\n",
        "\\end{bmatrix} (\\vec{v}_0 - \\vec{v}_l) = \n",
        "\\begin{bmatrix}\n",
        "v'_1\\\\\n",
        "v'_2\\\\\n",
        "\\vdots \\\\\n",
        "v'_n\n",
        "\\end{bmatrix}\n",
        "$$"
      ],
      "metadata": {
        "id": "I302TtBc9JYG"
      }
    },
    {
      "cell_type": "code",
      "execution_count": 8,
      "source": [
        "def generatePoints(xc, yc, zc, n, xs=1, ys=1, zs=1):\n",
        "  \"\"\"\n",
        "  @xc, yc, zc: points center\n",
        "  @xs, ys, zs: points scale\n",
        "  \"\"\"\n",
        "  points = np.random.rand(3, n)\n",
        "  points[0] = points[0]*xs + xc\n",
        "  points[1] = points[1]*ys + yc\n",
        "  points[2] = points[2]*zs + zc\n",
        "  return points\n",
        "\n",
        "generatePoints(10, 50, 1, n=2)"
      ],
      "outputs": [
        {
          "output_type": "execute_result",
          "data": {
            "text/plain": [
              "array([[10.31871359, 10.2151918 ],\n",
              "       [50.2594425 , 50.140402  ],\n",
              "       [ 1.8613003 ,  1.40457554]])"
            ]
          },
          "metadata": {
            "tags": []
          },
          "execution_count": 8
        }
      ],
      "metadata": {
        "colab": {
          "base_uri": "https://localhost:8080/"
        },
        "id": "Jj7m1-uXHwms",
        "outputId": "b2ed2134-b0a5-4677-b3db-7a53b625ff40"
      }
    },
    {
      "cell_type": "markdown",
      "source": [
        "Simulator："
      ],
      "metadata": {
        "id": "YNuvKRwmojrK"
      }
    },
    {
      "cell_type": "code",
      "execution_count": 9,
      "source": [
        "from scipy.spatial.transform import Rotation as sciR\n",
        "\n",
        "class Simulator:\n",
        "  def __init__(self, w, v, vt, p, dt):\n",
        "    self.w = w # 角速度\n",
        "    self.v = v # 雷达速度\n",
        "    self.vt = vt # 目标速度\n",
        "    self.p = p # 雷达起始位置\n",
        "    self.dt = dt # 间隔时间\n",
        "    self.R = sciR.from_rotvec([0., 0., 0.]) # 单位阵\n",
        "  \n",
        "  @staticmethod\n",
        "  def generateTargetPoints(xc, yc, zc, n, xs=1, ys=1, zs=1):\n",
        "    \"\"\"\n",
        "    @xc, yc, zc: points center\n",
        "    @xs, ys, zs: points scale\n",
        "    \"\"\"\n",
        "    points = np.random.rand(3, n)\n",
        "    points[0] = points[0]*xs + xc\n",
        "    points[1] = points[1]*ys + yc\n",
        "    points[2] = points[2]*zs + zc\n",
        "    return points # shape: 3 x n\n",
        "\n",
        "  def run(self):\n",
        "    w = self.w # 角速度\n",
        "    v = self.v # 雷达速度 m/s\n",
        "    vt = self.vt # 目标速度 v-target\n",
        "    p = self.p # 雷达起始位置\n",
        "    dt = self.dt # second\n",
        "    tps = self.tps # target points\n",
        "\n",
        "    R = sciR.from_rotvec([0., 0., 0.])\n",
        "    A = []\n",
        "    B = []\n",
        "    for i in range(len(self.tps)):\n",
        "      R = R * sciR.from_rotvec(w*dt)\n",
        "      p = p + R.inv().apply(v) * dt\n",
        "      tp = tps[:, i] + vt*dt # target point\n",
        "      p_t = tp - p\n",
        "      A.append(R.apply(p_t))\n",
        "      B.append(R.inv().apply(vt-v)@p_t)\n",
        "    return A, B"
      ],
      "outputs": [],
      "metadata": {
        "id": "u2m1de8ToiiO"
      }
    },
    {
      "cell_type": "code",
      "execution_count": 10,
      "source": [
        "w = np.array([0., 0., np.deg2rad(30)]) # 角速度\n",
        "v = np.array([0., 10.0, 0.]) # 雷达速度 m/s\n",
        "vt = np.array([2., 0., 5.]) # 目标速度 v-target\n",
        "p = np.array([0., 0., 0.]) # 雷达起始位置\n",
        "dt = 0.01 # second\n",
        "\n",
        "Sim = Simulator(w, v, vt, p, dt)\n",
        "Sim.tps = Simulator.generateTargetPoints(10, 50, 1, n=10) # target points\n",
        "\n",
        "A, B = Sim.run()\n",
        "\n",
        "print(\"gt:\", vt)\n",
        "print(\"estimation:\", (np.linalg.pinv(A)@B + v).round(2))"
      ],
      "outputs": [
        {
          "output_type": "stream",
          "name": "stdout",
          "text": [
            "gt: [2. 0. 5.]\n",
            "estimation: [2. 0. 5.]\n"
          ]
        }
      ],
      "metadata": {
        "colab": {
          "base_uri": "https://localhost:8080/"
        },
        "id": "o1qZM0SpCXsh",
        "outputId": "3f038f33-b8ef-4583-c44e-84db63cfcb88"
      }
    },
    {
      "cell_type": "markdown",
      "source": [
        "如果不考虑旋转，看下求解的目标速度和真值（gt）的误差情况："
      ],
      "metadata": {
        "id": "2tjj_bk9-MIa"
      }
    },
    {
      "cell_type": "code",
      "execution_count": 11,
      "source": [
        "# !pip install jdc\n",
        "import jdc"
      ],
      "outputs": [],
      "metadata": {
        "id": "tXRxJkIR1tZS"
      }
    },
    {
      "cell_type": "code",
      "execution_count": 12,
      "source": [
        "%%add_to Simulator\n",
        "\n",
        "def run_no_rotation(self):\n",
        "  w = self.w # 角速度\n",
        "  v = self.v # 雷达速度 m/s\n",
        "  vt = self.vt # 目标速度 v-target\n",
        "  p = self.p # 雷达起始位置\n",
        "  dt = self.dt # second\n",
        "  tps = self.tps # target points\n",
        "\n",
        "  R = sciR.from_rotvec([0., 0., 0.])\n",
        "  A = []\n",
        "  B = []\n",
        "  for i in range(len(self.tps)):\n",
        "    R = R * sciR.from_rotvec(w*dt)\n",
        "    p = p + R.inv().apply(v) * dt\n",
        "    tp = tps[:, i] + vt*dt # target point\n",
        "    p_t = tp - p\n",
        "    A.append(p_t)\n",
        "    B.append(R.inv().apply(vt-v)@p_t)\n",
        "  return A, B"
      ],
      "outputs": [],
      "metadata": {
        "id": "WnEuWe8w_zF6"
      }
    },
    {
      "cell_type": "code",
      "execution_count": 13,
      "source": [
        "A, B = Sim.run_no_rotation()\n",
        "\n",
        "print(\"gt:\", vt)\n",
        "print(\"estimation:\", (np.linalg.pinv(A)@B + v).round(2))"
      ],
      "outputs": [
        {
          "output_type": "stream",
          "name": "stdout",
          "text": [
            "gt: [2. 0. 5.]\n",
            "estimation: [11.57 -2.18 11.27]\n"
          ]
        }
      ],
      "metadata": {
        "colab": {
          "base_uri": "https://localhost:8080/"
        },
        "id": "-9NjDWzYAn63",
        "outputId": "92a4cd29-ee2a-4750-ece5-a2068018d6f0"
      }
    },
    {
      "cell_type": "code",
      "execution_count": 14,
      "source": [
        "Sim.w = np.array([0., 0., np.deg2rad(30)]) # 角速度\n",
        "Sim.v = np.array([0., 10.0, 0.]) # 雷达速度 m/s\n",
        "Sim.vt = np.array([20., 30., 5.]) # 目标速度 v-target\n",
        "Sim.dt = 0.00004 # 40us\n",
        "A, B = Sim.run_no_rotation()\n",
        "\n",
        "print(\"gt:\", Sim.vt)\n",
        "print(\"estimation:\", (np.linalg.pinv(A)@B + Sim.v).round(3))"
      ],
      "outputs": [
        {
          "output_type": "stream",
          "name": "stdout",
          "text": [
            "gt: [20. 30.  5.]\n",
            "estimation: [20.133 29.97   5.084]\n"
          ]
        }
      ],
      "metadata": {
        "colab": {
          "base_uri": "https://localhost:8080/"
        },
        "id": "rDzjPhwS_P0S",
        "outputId": "64ba2996-47a9-45ac-8f4d-9b953ca10bf3"
      }
    },
    {
      "cell_type": "code",
      "execution_count": 15,
      "source": [
        "Sim.w = np.array([0., 0., np.deg2rad(30)]) # 角速度\n",
        "Sim.v = np.array([0., 60.0, 0.]) # 雷达速度 m/s\n",
        "Sim.vt = np.array([20., 30., 5.]) # 目标速度 v-target\n",
        "Sim.dt = 0.00004 # 40us\n",
        "A, B = Sim.run_no_rotation()\n",
        "\n",
        "print(\"gt:\", Sim.vt)\n",
        "print(\"estimation:\", (np.linalg.pinv(A)@B + Sim.v).round(3))"
      ],
      "outputs": [
        {
          "output_type": "stream",
          "name": "stdout",
          "text": [
            "gt: [20. 30.  5.]\n",
            "estimation: [20.215 29.951  5.138]\n"
          ]
        }
      ],
      "metadata": {
        "colab": {
          "base_uri": "https://localhost:8080/"
        },
        "id": "rHmfXEftCBW7",
        "outputId": "221e7cce-5d89-4cb8-f432-11d8274a7f84"
      }
    },
    {
      "cell_type": "code",
      "execution_count": 16,
      "source": [
        "Sim.w = np.array([0., 0., np.deg2rad(10)]) # 角速度\n",
        "Sim.v = np.array([0., 60.0, 0.]) # 雷达速度 m/s\n",
        "Sim.vt = np.array([20., 30., 5.]) # 目标速度 v-target\n",
        "Sim.dt = 0.00004 # 40us\n",
        "A, B = Sim.run_no_rotation()\n",
        "\n",
        "print(\"gt:\", Sim.vt)\n",
        "print(\"estimation:\", (np.linalg.pinv(A)@B + Sim.v).round(3))"
      ],
      "outputs": [
        {
          "output_type": "stream",
          "name": "stdout",
          "text": [
            "gt: [20. 30.  5.]\n",
            "estimation: [20.072 29.984  5.046]\n"
          ]
        }
      ],
      "metadata": {
        "colab": {
          "base_uri": "https://localhost:8080/"
        },
        "id": "4qQb-QZVCaKf",
        "outputId": "141e62c3-5679-4035-d54b-e0ae0c4d0c9e"
      }
    },
    {
      "cell_type": "code",
      "execution_count": 17,
      "source": [
        "Sim.w = np.array([0., 0., np.deg2rad(30)]) # 角速度\n",
        "Sim.v = np.array([0., 10.0, 0.]) # 雷达速度 m/s\n",
        "Sim.vt = np.array([20., 30., 5.]) # 目标速度 v-target\n",
        "Sim.dt = 0.001 # 1ms\n",
        "A, B = Sim.run_no_rotation()\n",
        "\n",
        "print(\"gt:\", Sim.vt)\n",
        "print(\"estimation:\", (np.linalg.pinv(A)@B + Sim.v).round(3))"
      ],
      "outputs": [
        {
          "output_type": "stream",
          "name": "stdout",
          "text": [
            "gt: [20. 30.  5.]\n",
            "estimation: [23.385 29.235  7.141]\n"
          ]
        }
      ],
      "metadata": {
        "colab": {
          "base_uri": "https://localhost:8080/"
        },
        "id": "HGokJ0egBGgC",
        "outputId": "ea576831-af63-461d-c946-4932e3ef650c"
      }
    },
    {
      "cell_type": "code",
      "execution_count": 18,
      "source": [
        "Sim.w = np.array([0., 0., np.deg2rad(30)]) # 角速度\n",
        "Sim.v = np.array([0., 60.0, 0.]) # 雷达速度 m/s\n",
        "Sim.vt = np.array([0., 0., 1.]) # 目标速度 v-target\n",
        "Sim.dt = 0.001 # 1ms\n",
        "A, B = Sim.run_no_rotation()\n",
        "\n",
        "print(\"gt:\", Sim.vt)\n",
        "print(\"estimation:\", (np.linalg.pinv(A)@B + Sim.v).round(3))"
      ],
      "outputs": [
        {
          "output_type": "stream",
          "name": "stdout",
          "text": [
            "gt: [0. 0. 1.]\n",
            "estimation: [ 2.711 -0.615  2.788]\n"
          ]
        }
      ],
      "metadata": {
        "colab": {
          "base_uri": "https://localhost:8080/"
        },
        "id": "ltz7EuVBClkY",
        "outputId": "016d877c-efd2-46d5-8eb4-82fcdae277d0"
      }
    },
    {
      "cell_type": "code",
      "execution_count": 19,
      "source": [
        "Sim.w = np.array([0., 0., np.deg2rad(5)]) # 角速度\n",
        "Sim.v = np.array([0., 60.0, 0.]) # 雷达速度 m/s\n",
        "Sim.vt = np.array([0., 0., 1.]) # 目标速度 v-target\n",
        "Sim.dt = 0.001 # 1ms\n",
        "A, B = Sim.run_no_rotation()\n",
        "\n",
        "print(\"gt:\", Sim.vt)\n",
        "print(\"estimation:\", (np.linalg.pinv(A)@B + Sim.v).round(3))"
      ],
      "outputs": [
        {
          "output_type": "stream",
          "name": "stdout",
          "text": [
            "gt: [0. 0. 1.]\n",
            "estimation: [ 0.454 -0.103  1.299]\n"
          ]
        }
      ],
      "metadata": {
        "colab": {
          "base_uri": "https://localhost:8080/"
        },
        "id": "fidJSU26Cxoa",
        "outputId": "77a79e61-c33a-4fe0-e711-634cf8dbc86e"
      }
    },
    {
      "cell_type": "code",
      "execution_count": 20,
      "source": [
        "Sim.w = np.array([0., 0., np.deg2rad(5)]) # 角速度\n",
        "Sim.v = np.array([0., 60.0, 0.]) # 雷达速度 m/s\n",
        "Sim.vt = np.array([20., 70., 1.]) # 目标速度 v-target\n",
        "Sim.dt = 0.005 # 5ms\n",
        "A, B = Sim.run_no_rotation()\n",
        "\n",
        "print(\"gt:\", Sim.vt)\n",
        "print(\"estimation:\", (np.linalg.pinv(A)@B + Sim.v).round(3))"
      ],
      "outputs": [
        {
          "output_type": "stream",
          "name": "stdout",
          "text": [
            "gt: [20. 70.  1.]\n",
            "estimation: [26.439 68.541  5.152]\n"
          ]
        }
      ],
      "metadata": {
        "colab": {
          "base_uri": "https://localhost:8080/"
        },
        "id": "lqSsYOD6EF59",
        "outputId": "173f4f24-8932-480e-d27c-bed533f104d6"
      }
    },
    {
      "cell_type": "markdown",
      "source": [
        "由于Aqronos雷达目标是逐行扫描（100ms/帧），如果总共20行，那么意味着上下两条线上点的间隔能差5ms。从上述仿真结果可以看出，即使雷达转动速度很低（5°/s），对目标速度方向求解有较大影响。"
      ],
      "metadata": {
        "id": "3ryzel5AExmp"
      }
    }
  ]
}